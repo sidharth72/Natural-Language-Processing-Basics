{
  "nbformat": 4,
  "nbformat_minor": 0,
  "metadata": {
    "colab": {
      "provenance": []
    },
    "kernelspec": {
      "name": "python3",
      "display_name": "Python 3"
    },
    "language_info": {
      "name": "python"
    }
  },
  "cells": [
    {
      "cell_type": "markdown",
      "source": [
        "# **Natural Language Processing - NLP basics**\n",
        "\n",
        "NLP is a field of Artificial Intelligence which deals with processing Natural Language using different methods so that the computer has the ability of understand written and spoken human language and perform tasks accordingly.\n",
        "\n",
        "Some important NLP techniques:\n",
        "\n",
        "## **1. Text Normalization**\n",
        "\n",
        "Text normalization is a method of coverting raw text into a general or standardized form so that it can be processed using NLP models. It is important to ensure the natural language is standardized to remove any kind of outliers from the text which may harm the performance of different type of text models like classification, summarization, etc.\n",
        "\n",
        "Some of the text normalization methods involves:\n"
      ],
      "metadata": {
        "id": "LgM7_EXZgOHc"
      }
    },
    {
      "cell_type": "code",
      "execution_count": null,
      "metadata": {
        "colab": {
          "base_uri": "https://localhost:8080/"
        },
        "id": "WyQMo69Bd41p",
        "outputId": "39146678-ff5c-4303-86c5-ac244648c0f8"
      },
      "outputs": [
        {
          "output_type": "stream",
          "name": "stdout",
          "text": [
            "Requirement already satisfied: nltk in /usr/local/lib/python3.10/dist-packages (3.8.1)\n",
            "Requirement already satisfied: click in /usr/local/lib/python3.10/dist-packages (from nltk) (8.1.7)\n",
            "Requirement already satisfied: joblib in /usr/local/lib/python3.10/dist-packages (from nltk) (1.4.0)\n",
            "Requirement already satisfied: regex>=2021.8.3 in /usr/local/lib/python3.10/dist-packages (from nltk) (2023.12.25)\n",
            "Requirement already satisfied: tqdm in /usr/local/lib/python3.10/dist-packages (from nltk) (4.66.2)\n"
          ]
        }
      ],
      "source": [
        "!pip install nltk"
      ]
    },
    {
      "cell_type": "code",
      "source": [
        "import nltk\n",
        "from nltk.tokenize import word_tokenize, sent_tokenize\n",
        "from nltk.stem import WordNetLemmatizer\n",
        "from nltk import pos_tag\n",
        "from nltk.corpus import wordnet as wn"
      ],
      "metadata": {
        "id": "teMD7Qy9eAW_"
      },
      "execution_count": null,
      "outputs": []
    },
    {
      "cell_type": "code",
      "source": [
        "nltk.download('punkt')\n",
        "nltk.download('wordnet')\n",
        "nltk.download('averaged_perceptron_tagger')"
      ],
      "metadata": {
        "colab": {
          "base_uri": "https://localhost:8080/"
        },
        "id": "0rs8xYr0oaRj",
        "outputId": "34e730da-cad4-4c70-8129-0838807f1f1b"
      },
      "execution_count": null,
      "outputs": [
        {
          "output_type": "stream",
          "name": "stderr",
          "text": [
            "[nltk_data] Downloading package punkt to /root/nltk_data...\n",
            "[nltk_data]   Unzipping tokenizers/punkt.zip.\n",
            "[nltk_data] Downloading package wordnet to /root/nltk_data...\n",
            "[nltk_data] Downloading package averaged_perceptron_tagger to\n",
            "[nltk_data]     /root/nltk_data...\n",
            "[nltk_data]   Unzipping taggers/averaged_perceptron_tagger.zip.\n"
          ]
        },
        {
          "output_type": "execute_result",
          "data": {
            "text/plain": [
              "True"
            ]
          },
          "metadata": {},
          "execution_count": 3
        }
      ]
    },
    {
      "cell_type": "markdown",
      "source": [
        "## **1.1 Tokenization**\n",
        "\n",
        "Tokenization is the method of breaking down text data into different chunks called tokens. The idea behind text tokenization is to segment the input text into meaningful units so that it can be easily processed by NLP models unit by unit to understand better about the language. It is crucial step in several NLP tasks like sentence classification, segmentation, generation, translation, and a ton of others."
      ],
      "metadata": {
        "id": "y8JkNyKrkvSy"
      }
    },
    {
      "cell_type": "code",
      "source": [
        "text = \"She is running quickly in the Jurassic park. Suddenly she heard a T-rex roar.\"\n",
        "\n",
        "# Sentence Tokenization\n",
        "sentences = sent_tokenize(text)\n",
        "print(sentences)"
      ],
      "metadata": {
        "colab": {
          "base_uri": "https://localhost:8080/"
        },
        "id": "tFueFKZ-kYMM",
        "outputId": "399ab383-7713-4e83-eb7e-7a1b43392add"
      },
      "execution_count": null,
      "outputs": [
        {
          "output_type": "stream",
          "name": "stdout",
          "text": [
            "['She is running quickly in the Jurassic park.', 'Suddenly she heard a T-rex roar.']\n"
          ]
        }
      ]
    },
    {
      "cell_type": "markdown",
      "source": [
        "### **1.1.1 Top-down Tokenization**\n",
        "\n",
        "This tokenization method tokenize the text in a top down hierarchy where we segment each level of natural language recursively. For example if we have a large document containing multiple number of paragraphs,\n",
        "\n",
        "First, the document is splitted to paragraph segments, then each paragraph is splitted to sentences, then each sentence is splitted to words called tokens, etc.\n",
        "\n",
        "### **1.1.2 Bottom-up Tokenization**\n",
        "\n",
        "Botton-up tokenization is the reverse process of top-down where first we converte the whole text corpus into its smaller units possible and gradually working up to larger structures. for example converting corpus of text to characters and then charcters to words or subwords based on the nature of character distributed over the words and sentences\n",
        "\n",
        "* #### 1.1.2.1 **Subword Tokenization** : Subword tokenization is a tokenization method that break down words into smaller units called subwords. Each subword holds some meaning about the word and context, which typically include prefixes and suffixes. For example: **Consider the words low, new, newer, we don't need to create another token for lower as it can be created from low + er which is present when we segment new + er**\n"
      ],
      "metadata": {
        "id": "CgfdJCMlPvAr"
      }
    },
    {
      "cell_type": "code",
      "source": [
        "# Word Tokenization Example\n",
        "words = word_tokenize(text)\n",
        "print(words)"
      ],
      "metadata": {
        "colab": {
          "base_uri": "https://localhost:8080/"
        },
        "id": "rdUesUqQkqFw",
        "outputId": "a0181d5a-1e08-43e9-973e-88ef9cce9de2"
      },
      "execution_count": null,
      "outputs": [
        {
          "output_type": "stream",
          "name": "stdout",
          "text": [
            "['She', 'is', 'running', 'quickly', 'in', 'the', 'Jurassic', 'park', '.', 'Suddenly', 'she', 'heard', 'a', 'T-rex', 'roar', '.']\n"
          ]
        }
      ]
    },
    {
      "cell_type": "markdown",
      "source": [
        "#### **1.1.2.1.1 Byte Pair Encoding (BPE)**\n",
        "\n",
        "BPE is one of the popular tokenization algorithm which merges most frequent pairs of characters in a corpus iteratively to create a subword vocabulary.\n",
        "It is introduced as a compression algorithm which can compress large string of text into simple forms reducing the complexity. But later became so much popular in tokenization for NLP models."
      ],
      "metadata": {
        "id": "tE1Iu1E2mvT9"
      }
    },
    {
      "cell_type": "code",
      "source": [
        "!pip install tokenizers"
      ],
      "metadata": {
        "colab": {
          "base_uri": "https://localhost:8080/"
        },
        "id": "wB7X08hm0qGi",
        "outputId": "f1e8fc2d-061b-46a6-9348-eb1818c2b78e"
      },
      "execution_count": null,
      "outputs": [
        {
          "output_type": "stream",
          "name": "stdout",
          "text": [
            "Requirement already satisfied: tokenizers in /usr/local/lib/python3.10/dist-packages (0.15.2)\n",
            "Requirement already satisfied: huggingface_hub<1.0,>=0.16.4 in /usr/local/lib/python3.10/dist-packages (from tokenizers) (0.20.3)\n",
            "Requirement already satisfied: filelock in /usr/local/lib/python3.10/dist-packages (from huggingface_hub<1.0,>=0.16.4->tokenizers) (3.13.4)\n",
            "Requirement already satisfied: fsspec>=2023.5.0 in /usr/local/lib/python3.10/dist-packages (from huggingface_hub<1.0,>=0.16.4->tokenizers) (2023.6.0)\n",
            "Requirement already satisfied: requests in /usr/local/lib/python3.10/dist-packages (from huggingface_hub<1.0,>=0.16.4->tokenizers) (2.31.0)\n",
            "Requirement already satisfied: tqdm>=4.42.1 in /usr/local/lib/python3.10/dist-packages (from huggingface_hub<1.0,>=0.16.4->tokenizers) (4.66.2)\n",
            "Requirement already satisfied: pyyaml>=5.1 in /usr/local/lib/python3.10/dist-packages (from huggingface_hub<1.0,>=0.16.4->tokenizers) (6.0.1)\n",
            "Requirement already satisfied: typing-extensions>=3.7.4.3 in /usr/local/lib/python3.10/dist-packages (from huggingface_hub<1.0,>=0.16.4->tokenizers) (4.11.0)\n",
            "Requirement already satisfied: packaging>=20.9 in /usr/local/lib/python3.10/dist-packages (from huggingface_hub<1.0,>=0.16.4->tokenizers) (24.0)\n",
            "Requirement already satisfied: charset-normalizer<4,>=2 in /usr/local/lib/python3.10/dist-packages (from requests->huggingface_hub<1.0,>=0.16.4->tokenizers) (3.3.2)\n",
            "Requirement already satisfied: idna<4,>=2.5 in /usr/local/lib/python3.10/dist-packages (from requests->huggingface_hub<1.0,>=0.16.4->tokenizers) (3.6)\n",
            "Requirement already satisfied: urllib3<3,>=1.21.1 in /usr/local/lib/python3.10/dist-packages (from requests->huggingface_hub<1.0,>=0.16.4->tokenizers) (2.0.7)\n",
            "Requirement already satisfied: certifi>=2017.4.17 in /usr/local/lib/python3.10/dist-packages (from requests->huggingface_hub<1.0,>=0.16.4->tokenizers) (2024.2.2)\n"
          ]
        }
      ]
    },
    {
      "cell_type": "code",
      "source": [
        "from collections import defaultdict, Counter\n",
        "\n",
        "def byte_pair_encoding(corpus, num_merges):\n",
        "    # Tokenize the corpus into words and then into characters (initial tokenization)\n",
        "    words = [list(word) for word in corpus.split()]\n",
        "\n",
        "    # Create a dictionary of all possible pairs and their frequencies\n",
        "    pairs = defaultdict(int)\n",
        "    for word in words:\n",
        "        # Create pairs of adjacent subwords (characters initially)\n",
        "        for i in range(len(word) - 1):\n",
        "            pair = (word[i], word[i + 1])\n",
        "            pairs[pair] += 1\n",
        "\n",
        "    # Perform the specified number of merges\n",
        "    for _ in range(num_merges):\n",
        "        if not pairs:\n",
        "            break\n",
        "\n",
        "        # Find the most frequent pair\n",
        "        most_frequent_pair = max(pairs, key=pairs.get)\n",
        "\n",
        "        # Replace all occurrences of the most frequent pair with a merged subword\n",
        "        new_words = []\n",
        "        for word in words:\n",
        "            new_word = []\n",
        "            i = 0\n",
        "            while i < len(word):\n",
        "                if i < len(word) - 1 and (word[i], word[i + 1]) == most_frequent_pair:\n",
        "                    # Merge the pair and skip the next character\n",
        "                    new_word.append(word[i] + word[i + 1])\n",
        "                    i += 2\n",
        "                else:\n",
        "                    # Add the character as is\n",
        "                    new_word.append(word[i])\n",
        "                    i += 1\n",
        "            new_words.append(new_word)\n",
        "\n",
        "        # Update the words with merged pairs\n",
        "        words = new_words\n",
        "\n",
        "        # Update the pairs dictionary\n",
        "        pairs = defaultdict(int)\n",
        "        for word in words:\n",
        "            for i in range(len(word) - 1):\n",
        "                pair = (word[i], word[i + 1])\n",
        "                pairs[pair] += 1\n",
        "\n",
        "    # Create the final subword vocabulary from the words\n",
        "    vocabulary = set()\n",
        "    for word in words:\n",
        "        vocabulary.update(word)\n",
        "\n",
        "    # Return the final vocabulary and the tokenized words\n",
        "    tokenized_words = [' '.join(word) for word in words]\n",
        "    return vocabulary, tokenized_words\n",
        "\n",
        "# Example usage:\n",
        "\n",
        "with open('/content/drive/MyDrive/Natural-Language-Processing/internet_archive_scifi_v3.txt', 'r') as f:\n",
        "    corpus = f.read()[:50000]\n",
        "\n",
        "num_merges = 100\n",
        "\n",
        "vocabulary, tokenized_words = byte_pair_encoding(corpus, num_merges)\n",
        "\n",
        "print(\"Vocabulary:\", vocabulary)\n",
        "print(\"Tokenized words:\", tokenized_words)"
      ],
      "metadata": {
        "colab": {
          "base_uri": "https://localhost:8080/"
        },
        "id": "wd1nZVm7mulo",
        "outputId": "54363605-6aba-422f-b2f0-13539899f6f9"
      },
      "execution_count": null,
      "outputs": [
        {
          "output_type": "stream",
          "name": "stdout",
          "text": [
            "Vocabulary: {'ing', \"'t\", 'Y', 'irk', 'ha', 'A', 'ir', 'to', 're', 'E', '?\"', 'mo', 'O', 'for', 'one', 'se', 'hi', 'ur', 'Cor', '\"', 'C', 'ad', 'so', 'z', \"'s\", 'and', 'ie', 'all', 'T', 'ld', 'x', 'M', 'was', 'B', 'ter', '?', 's', 'Q', 'the', 'id', 'ut', 'fe', 'i', 'ay', 'you', 'q', 'H', 'h', 'm', '--', 'li', 'ver', 'do', 'gh', \"'\", '!', 'w', 'e', 'on', 'I', 'as', 'be', 'si', '-', 'st', 'c', 'R', 'al', 'ar', 'nd', 'out', 'in', ')', 'J', 'ly', 'ke', 'v', 'it', 'man', 'p', 'a', 'K', '.\"', 'de', 'D', 'F', 'that', '.', ':', 'G', 'Corde', 'ri', 'N', 'at', 'th', 'g', 'her', 'b', 'P', 'Kirk', ',', 'S', 'y', 'l', 'we', 'lo', 'et', 'go', 'o', 'j', 'k', 'ne', 'll', 'U', 'of', 'he', 'ma', 'ce', '(', 'an', 'ti', 'le', 'd', 'ent', 'no', 'V', 'u', '#', ';', 'ac', 'or', 'ic', 'ab', 'said', 'ou', 'L', 'es', 'me', 'W', 'en', 'ho', 'The', 'is', 'his', 'ant', 'f', 'X', 'r', 'hat', 've', 'Z', 'ould', 'wi', 'Cordell', 'sa', 'un', 'ow', 'ro', 'ed', 'co', 'er', 't', 'ght', 'n'}\n",
            "Tokenized words: ['M A R C H', '#', 'A ll', 'S t or i es', 'N e w', 'and', 'C o m p le t e', 'P u b l is her', 'E d it or', 'I F', 'is', 'p u b l is he d', 'b i - m on th ly', 'b y', 'Q u in n', 'P u b l is h ing', 'C o m p an y ,', 'I n c . ,', 'K ing st on ,', 'N e w', 'Y or k .', 'V o l u me', '# ,', 'N o .', '# .', 'C o p y ri ght', '#', 'b y', 'Q u in n', 'P u b l is h ing', 'C o m p an y ,', 'I n c .', 'A p p li c at i on', 'for', \"E n t r y '\", 'as', 'S e c on d', 'C l as s', 'm at ter', 'at', 'P o st', 'O f f ic e ,', 'B u f f al o ,', 'N e w', 'Y or k ,', 'p en d ing .', 'S u b s c ri p ti on', '#', 'for', '#', 'is s u es', 'in', 'U . S .', 'and', 'P o s s es si on s :', 'C an ad a', '#', 'for', '#', 'is s u es ;', 'e l se w he re', '# .', 'A i i ow', 'f ou r', 'we e k s', 'for', 'c h an g e', 'of', 'ad d re s s .', 'A ll', 'st or i es', 'a p p e ar ing', 'in', 'th is', 'ma g a z in e', 'a re', 'f ic ti on .', 'A n y', 'si m i l ar it y', 'to', 'ac t u al', 'p er s on s', 'is', 'co in c id ent al .', '# c', 'a', 'f co p y .', 'P r in t ed', 'i a', 'U . S .', 'A .', 'A', 'c hat', 'wi th', 'the', 'ed it or', 'i', '#', 's c i en ce', 'f ic ti on', 'ma g a z in e', 'c all ed', 'I F .', 'The', 't it le', 'was', 'se le c t ed', 'a f ter', 'm u c h', 'th ou ght', 'be c a u se', 'of', 'it s', 'b re v it y', 'and', 'on', 'the', 'the or y', 'it', 'is', 'in d ic at i ve', 'of', 'the', 'f ie ld', 'and', 'wi ll', 'be', 'e as y', 'to', 're me m b er .', 'The', 't ent at i ve', 't it le', 'that', 'j u st', 'm or n ing', 'and', \"c ould n 't\", 're me m b er', 'it', 'un ti l', \"we ' d\", 'ha d', 'a', 'c u p', 'of', 'c of fe e ,', 'it', 'was', 's u m m ar i ly', 'd is c ar d ed .', 'A', 'g re at', 'de al', 'of', 'th ou ght', 'and', 'e f for t', 'li as', 'g one', 'in to', 'the', 'for m at i on', 'of', 'th is', 'ma g a z in e .', 'W e', 'ha ve', 'ha d', 'the', 'a id', 'of', 'se ver al', 'ver y', 't al ent ed', 'and', 'g en er ou s', 'p e o p le ,', 'for', 'w h ic h', 'we', 'a re', 'mo st', 'g r at e f u l .', 'M u c h', 'is', 'd u e', 'the m', 'for', 'the ir', 'w ar m he ar t ed', 'as si st an ce .', 'A nd', 'n ow', 'that', 'the', 'b u l k', 'of', 'the', 'for m at i ve', 'w or k', 'is', 'd one ,', 'we', 'wi ll', 't r y', 'to', 'ma in t a in', 'I F', 'as', 'one', 'of', 'the', 'f in e st', 'b o o k s', 'on', 'the', 'm ar k et .', 't', 'a', 'g re at', 'p u b li c', 'de m and', 'for', 'ou r', 'ma g a z in e .', 'I n', 's h or t ,', 'w h y', 'wi ll', 'you', 'b u y', 'I F ?', 'W e', 'c an no t ,', 'in', 'h one st y ,', 's ay', 'we', 'wi ll', 'p u b l is h', 'at', 'all', 'ti me s', 'the', 'be st', 's c i en ce', 'f ic ti on', 'in', 'the', 'f ie ld .', 'T hat', 'w ould', 'no t', 'be', 't r u e .', 'B ut', 'we', 'wi ll', 'ha ve', 'ac c es s', 'to', 'the', 'be st', 'st or i es ,', 'and', 'we', 'wi ll', 'g et', 'ou r', 'f a ir', 's ha re', 'of', 'w or k s', 'f ro m', 'the', 'be st', 'w r it er s .', 'W e', 'de f in it e ly', 'wi ll', 'no t', 't al k', '\" ad u l t \"', 'or', '\" j u v en i le \"', 're l at i ve', 'to', 'ou r', 'c on t ent', 'as', 'we', 'fe e l', 's u c h', 'ter m s', 'a re', 'm is le ad ing .', 'W e', 'w ould', 'r a the r', 'th in k', 'at', 'all', 'ti me s', 'in', 'the', 'ter m s', 'of', '\" st or y \" .', 'S o me', 'of', 'the', 'g re at e st', 'es c a p i st', 'l it er at u re', 'e ver', 'w r it t en ,', 'T re as u re', 'I s l and', 'for', 'in st an ce ,', 'c ould', 'be', 'p ut', 'in to', 'e i the r', 'c at e g or y', 'or', 'b o th .', 'A nd', 'i f', 'E d g ar', 'R ic e', 'B ur r ou gh s', 'is', 'j u v en i le ,', 'the n', 'so', 'a re', 'we ,', 'be c a u se', 'the', 'l at e', 'ma st er', 'h as', 'g i v en', 'u s', 'so me', 'me m or ab le', 'th ri ll s .', 'F r an k ly ,', 'we', \"d on 't\", 'th in k', \"you ' ll\", 'b u y', 'I F', 'be c a u se', 'you', 'fe e l', 'we', 'p r in t', 'be t ter', 'y a m s', 'th an', 'an y', 'o the r', 'ma g .', 'Y ou', 'wi ll', 'b u y', 'it ,', 'we', 'ho p e ,', 'be c a u se', 'you', 'li ke', 'it s', 'p er s on al it y .', 'E ver y', 'ma g a z in e ,', 'we', 'fe e l ,', 'do es', 'ha ve', 'a', 'de f in it e', 'p er s on al it y', 'of', 'it s', 'ow n .', 'T his', 'p er s on al it y', 'is', 'u s u all y', 'a', 're f le c ti on', 'of', 'the', 'ed it or s ,', 'the ir', 'w ay', 'of', 'th in k ing ,', 'the ir', 'a p p re c i at i on', 'of', 't K e', 'm ar k et ,', 'the ir', 'in ter p re t at i on', 'of', 'w hat', 'you', 'wi ll', 'li ke', 'be st', 'in', 'st or i es', 'and', 'ar t w or k .', 'W e', 'ha ve', 't ri ed', 'to', 'ma ke', 'I F', 'd i f fe re n t', 'f ro m', 'an y', 'o the r', 's c i en ce', 'f ic ti on', 'ma g a z in e', 'on', 'the', 'st and s', 'w hi le', 'st i ll', 'b u i ld ing', 'it', 'al on g', 'the', 'l in es', 'of', 'w hat', 'e ver y', 's c i en ce', 'f ic ti on', 'ma g', 'm u st', 'be .', 'A si de', 'f ro m', 'the', 'le t ter', 'co l u m n s', 'and', 'the', 'ed it or i al ,', 'w h ic h', 'a re', 'de p ar t m ent s', 'of', 'f ie ld - wi de', 'u se ,', 'we', 'ha ve', 'no t', 'co p i ed', 'an y', 'fe at u re', 'of', 'an y', 'o the r', 'ma g a z in e .', 'W e', 'wi ll', 'no t ,', 'for', 'in st an ce ,', 're v ie w', 'f an z in es ,', 'be c a u se', 'we', 'fe e l', 'that', 'is', 'be ing', 'mo st', 'ab ly', 'd one', 'b y', 'o the r', 'ma g s .', 'N or', 'wi ll', 'we ,', 'as', 'a', 'g en er al', 'p r ac t ic e ,', 're v ie w', 'b o o k s', 'be c a u se', 'that', 'a p p e ar s', 'to', 'u s', 'to', 'be', 'o ver d one .', 'a', 'p er s on al it y', 'of', 'ou r', 'ow n', 'and', 'ho p e', 'the re b y', 'to', 'e st ab l is h', 'an', 'a f f in it y', 'wi th', 'a', 'l ar g e', 'n u m b er', 'of', 're ad er s', 'w ho', 'wi ll', 're me m b er', 'I F', 'w he n', 'the y', 'b u y', 'a', 's c i en ce', 'f ic ti on', 'ma g', 'as', 'one', 'the y', 'li ke', 'and', 'w is h', 'to', 'c on t in u e', 're ad ing .', 'A t', 'all', 'ti me s', 'we', 'wi ll', 'he w', 'to', 'the', 'st or y - l in e', 'and', 'wi ll', 'e x h or t', 'wi th', 'ou r', 'w r it er s', 'to', 'do', 'the', 'sa me .', 'A s', 'an', 'e x a m p le ,', 'w he n', 'H ow ar d', 'B r ow ne', 'p h on ed', 'to', 't al k', 'o ver', 'the', 'p lo t', 'for', 'his', 'le ad', 'no ve l', 'in', 'th is', 'is s u e ,', 'he', 'de s c ri b ed', 'w hat', 'i v as', 'wi th out', 'd ou b t', 'a', 'st a g g er ing', 'p re m is e ,', 'a', 're all y', 'st ar t l ing', 'c on ce p t .', '\" B ut , \"', 'he', 'm ou r n ed ,', 'S', 'T', 's u p p o se', \"I ' ll\", 'ha ve', 'to', 'b en d', 'it', 'ar ou nd', 'to', 'g i ve', 'the m', 'the', 'go o d', 'o ld', 'c on v ent i on al', 'en d ing .\"', 'W e', 'to ld', 'H ow ar d ,', '\" N o t', 'for', 'I F ,', 'c h u m .', 'R e me m b er', 'the', 'o ld', 'c re ed', 'we', 'li ve', 'b y .', 'A', 'w r it er', 'm ay', 'c he at', 'on', 'his', 'wi fe ,', 'b ut', 'he', 'is', 'e ver', 't r u e', 'to', 'the', 'st or y - l in e .', 'H e', 'm ay', 'ha u l', 'his', 'in f ant', 's on', 'ar ou nd', 'b y', 'one', 'le g .', 'b ut', 'he', 'c ar ri es', 'a', 'go o d', 'st or y - i de a', 'li ke', 'a', 'ho ly', 're li c .', 'I f', 'the re', 'is', 'on ly', 'one', 'lo g ic al', 'en d ing', 'for', 'T we l ve', 'T i me s', 'Z er G ,', \"that 's\", 'the', 'en d ing', 'we', 'w ant .\"', 'The re f o re ,', 'we', 'do', 'no t', 'fe e l', 'the', 'ma j or it y', 'of', 're ad er s', 'ne c es s ar i ly', 'w ant', 'a', 'ha p p y', 'en d ing', 're g ar d le s s', 'of', 'all', 'e l se .', 'N o t', 'w he n', 'it', 'is', 'in co m p at ab le', 'wi th', 'the', 'a ur a', 'of', 're al is m', 'c re at ed', 'b y', 'the', 'w r it er .', 'A', 'c he c k - li st', 'of', 'f ic ti on', 'ma st er p ie c es', 'c er t a in ly', 'be ar s', 'th is', 'out .', 'The', 'f ur or', 'c re at ed', 'b y', 'a', 'l it t le', 'p ie ce', 'c all ed', 'S or r y', ',', 'W r on g', 'N u m b er', 'w ould', 'c er t a in ly', 'no t', 'ha ve', 'be en', 'for th co m ing', 'ha d', 'the', 'b ed r id d en', 'l ad y', 'be en', 're s c u ed', 'in', 'the', 'l a st', 'p ar a g r a p h .', 'R o me o', 'and', 'J u li et', 'w ould', 'ha ve', 'be e p', 'no th ing', 'mo re', 'th an', 'the', 's mo o th', 'e f for t', 'of', 'the', \"w or ld 's\", 'g re at e st', 'w r it er', 'i f', 'R o me o', 'ha d', 'go t t en', 'the re', 'in', 'ti me .', 'Y et ,', 'in', 'mo d er n', 'f ic ti on ,', 'he', 'g et s', 'the re', 'in', 'ti me', 'wi th', 's u c h', 'a ma z ing', 're g u l ar it y', 'one', 'fe e l s', 'he', 'h as', 'me m or i z ed', 'at', 'le a st', 'a', 'do z en', 'ti me - t ab le s .', 'The', 're s u l t', 'h as', 'be en', 'un n u m be re d', 'c ar lo ad s', 'of', 'm ed i o c re', 'f ic ti on .', 'A l so', '--', 'th ou gh', 'we', \"d on 't\", 'w is h', 'to', 'un d er s co re', 'the', 'p o in t', 'to o', 'he a v i ly', '--', 'w hat', 'c ould', 'mo re', 's u re ly', 'ha ve', 's mo the re d', 'the', 'g re at n es s', 'of', 'W u the r ing', 'H e i ght s', 'th an', 'a', 'ha p p y', 'en d ing ?', 'that', 'I F', 'wi ll', 'be', 'a', 'ma g a z in e', 'g i v en', 'o ver', 'to', 't r a g ed y .', 'W', 'e', 'wi ll', 'on ly', 'in si st', 'that', 'ou r', 'w r it er s', 'c re at e', 's c en es', 'and', 'c li ma x es', 'that', 'f i x', 'the', 'st or y', 'r a the r', 'th an', 'c at er', 'to', 'that', 'o ld', '\" de b i l \"', 'for m u l a .', 'A nd', 'in', 'so', 'do ing', 'we', 'ha ve', 'an', 'ent i re ly', 'se l f is h', 'mo ti ve .', 'T his :', 'A s', 'the', 'y e ar s', 'go', 'b y ,', 'we', 'w ant', 'to', 'lo o k', 'b ac k', 'wi th', 'p er s on al', 'p ri de', 'u p on', 'an', 'e ver l en g the n ing', 'li st', 'of', 'g re at', 'st or i es .', 'S o', 'the', 'b o o k', 'you', 'n ow', 'ho ld', 'in', 'you r', 'h and s', 'is', 'a', 'ne w', 'one', 't it l ed', 'I F .', 'W e', 'ho p e', 'you', 'wi ll', 'li ke', 'it', '--', 'no t', 'for', 'j u st', 'a', 'd ay', '--', 'no t', 'for', 'j u st', 'a', 'm on th .', 'B ut', 'for', 'y e ar s', 'to', 'co me .', 'p w f', 'P o li ce', 'g ri ll ed', 'hi m', 'm er c i le s s ly', '#', 'w hi le', 'e y es', 'f ro m', 'a', 'h un d re d', 'w or ld s', 'lo o k ed', 'on', 'I t', 'was', 'a', 'lo ve - t ri an g le', 'm ur d er', 'that', 'ma de', \"to d ay 's\", 'he ad l in es', 'b ut', 'the', 'an s w er', 'l ay', 'h un d re d s', 'of', 'th ou s and s', 'of', 'li ght', 'y e ar s', 'a w ay !', 'one', 'of', 'the', 'b as e m ent', 'ro o m s .', 'H e', 'mo v ed', 's l ow ly', 'and', 'wi th', 'a', 'k in d', 'of', 'p a in f u l', 'd i g n it y ,', 'as', 'a', 'man', 'mo ve s', 'on', 'his', 'w ay', 'to', 'the', 'f ir ing', 's q u ad .', 'A', 'r u m p l ed', 's ho c k', 'of', 'b l ac k', 'ha ir', 'p o in t ed', 'u p', 'the', 'e x t re me', 'p all or', 'of', 'a', 'g a un t', 'f ac e ,', 'e m p t y', 'at', 'the', 'mo m ent', 'of', 'all', 'e x p re s si on .', 'H ar s h', 'li ght', 'f ro m', 'an', 'o ver he ad', 'f i x t u re', 'w in k ed', 'b ac k', 'f ro m', 't in y', 'be ad s', 'of', 'p er s p ir at i on', 'do t t ing', 'the', 'w a x en', 's k in', 'of', 'his', 'f o re he ad .', 'The', 'th re e', 'm en', 'wi th', 'hi m', 'w at c he d', 'hi m', 'out', 'of', 'f ac es', 'as', 'e x p re s si on le s s', 'as', 'his', 'ow n .', 'The y', 'we re', 'or d in ar y', 'm en', 'w ho', 'w o re', 'or d in ar y', 'c lo th ing', 'in', 'an', 'or d in ar y', 'w ay .', 'y et', 'in', 'the', 'w ay', 'the y', 'mo v ed', 'and', 'in', 'the', 'w', 'r', 'ay', 'the y', 's to o d', 'you', 'k ne w', 'the y', 'we re', 'I', 'h ar d', 'm en', 'w ho', 'we re', 'in', 'a', 'h ar d', 'and', 'l ar g e ly', 'un p le as ant', 'b u s in es s .', 'O ne', 'of', 'the m', 'mo ti on ed', 'c as u all y', 'to w ar d', 'a', 'st r a i ght - b ac k ed', 'c ha ir', 'al mo st', 'e x ac t ly', 'in', 'the', 'c ent er', 'of', 'the', 'ro o m .', '\" S it', 'the re ,', 'Cordell', 'I', 'he', 'said .', 'A', 'q u i et', 'v o ic e ,', 'no t', 'es p e c i all y', 'de e p ,', 'y et', 'it s', 'se e m ed', 'to', 'b ou n ce', 'of f', 'the', 'p a in t ed', 'c on c re t e', 'w all s .', 'W or d le s s ,', 'the', 'you n g', 'man', 'o be y ed .', 'S it t ing ,', 'he', 'se e m ed', 'as', 'st i f f', 'and', 'un co m p ro m is ing', 'as', 'be f o re .', 'The', 'man', 'w ho', 'ha d', 's p o k en', 'ma de', 'a', 'v a g u e', 'g e st u re', 'and', 'the', 'o ver he ad', 'li ght', 'w ent', 'out ,', 're p l ac ed', 'si m u l t an e ou s ly', 'b y', 'st r on g', 'r ay s', 'f ro m', 'a', 's p o t li ght', 'a i m ed', 'f u ll', 'at', 'the', 'e y es', 'of', 'the', 'se at ed', 'f i g u re .', 'I n v o l un t ar i ly', 'the', 'you n g', \"man 's\", 'he ad', 't ur n ed', 'as i de', 'to', 'a v o id', 'c a me', 'out', 'of', 'the', 'w all', 'of', 'd ar k n es s', 'and', 'j er k ed', 'it', 'b ac k', 'a g a in .', '#', \"' J u st\", 'to', 're m in d', 'you', ',', '#', 'the', 'q u i et', 'v o ic e', 'c on t in u ed', 'c on ver s at i on all y ,', '\" I \\' m', 'D et e c ti ve', 'L ie ut en ant', 'Kirk ,', 'H o m ic i de', 'B u re a u', '.', '#', 'A', 'p a ir', 'of', 'h and s', 'th r u st', \"' a\", 'se c on d', 'c ha ir', 'to w ar d', 'the', 'c ir c le', 'of', 'li ght .', 'Kirk', 's w un g', 'it', 'ar ou nd', 'and', 'd ro p p ed', 'on to', 'the', 'se at ,', 're st ing', 'his', 'ar m s', 'al on g', 'the', 'b ac k ,', 'f ac ing', 'the', 'man', 'ac ro s s', 'a', 'd i st an ce', 'of', 'h ar d ly', 'mo re', 'th an', 'in c he s .', 'I n', 'the', 'p it i le s s', 'g l a re', 'of', 'the', 's p o t li ght', 'Corde l P s', 'c he e k b on es', 's to o d', 'out', 's h ar p ly ,', 'and', 'un d er', 'his', 'de e p se t', 'e y es', 'we re', 'd ar k', 's m u d g es', 'of', 'e x ha u st i on .', 'H is', 'ri g id', 'p o st u re ,', 'his', 'b l an k', 'e x p re s si on ,', 'his', 'si l en ce', '--', 'the se', 'we re', 'l a id', 'out ,', 'ou r', 'f ir st', 'i de a', 'was', 'to', 'st a g e', 'the', 's co o p', 'of', 'the', 'c ent ur y :', 'G et', 'the', 'le ad', 'no ve l', 'f ro m', 'H ow be', 'g i v en', 'an', 'in f ant', 'p u b li c at i on', 'th an', \"B r ow ne 's\", 'n a me', 'on', 'the', 'co ver .', 'W e', 'as k ed', 'H ow ar d', 'and', 'he', 'as k ed', 'b is', 'b o s s ,', 'M r .', 'D a v is ,', 'and', 'M r .', 'D a v is', 'said ,', '\" S u re .\"', 'o l de st', 's c i en ce - f ic ti on', 'p u b li c at i on', 'in', 'the', 'w or ld .', 'I t', 'h as', 'the', 'l ar g e st', 'c ir c u l at i on', 'in', 'it s', 'f ie ld', 'and', 'u p', 'to', 'J an u ar y', '#', 'th', '( the', 'd ay', 'I F', 'w ent', 'on', 'the', 's c i en ce', 'f ic ti on', 'ma g a z in e', 'you r', 'm one y', 'c ould', 'b u y .', 'I t', 'h as', 'the', 'be st', 'w r it er s', 'in', 'the', 'f ie ld .', 'I t s', 'de p ar t m ent s', 'a re', 'e x f an z in e', 're v ie w s', 'and', 'S a m', 'M er w in', 're v ie w ing', 'the', 'b o o k s .', 'S o', 'i f', 'you', 'ha ve', 'a', 's p a re', 'q u ar ter ,', 'g et', 'a', 'co p y', 'of', 'A nd', 'n ow ,', 'ab out', 'H ow ar d', 'B r ow ne .', 'H e', 'is', 'a', 'h u g e', 'man ,', 'ma de', 'u p', 'al mo st', 'ent i re ly', 'of', 'v a st', 'en th u si as m s .', 'W e', 'ha ve', 'k n ow n', 'H ow ar d', 'in ti m at e ly', 'for', 'ab out', 'si x', 'y e ar s', 'and', 'we', 'c on t in u e', 'to', 're g ar d', 'hi m', 'wi th', 'a we .', 'The re', 'is', 'no', 'm id d le', 'g r ou nd', 'wi th', 'th is', 'man .', 'W he n', 'he', 'li k es', 'so me th ing ,', \"it 's\", 'ter ri f ic', 'I f', 'H ow ar d', 'h un g', 'a', 'p ic t u re', 'in', 'his', 'of f ic e', 'we', 'd ou b t', 'i f', 'it', 'w ould', 'be', 'a', 'c as u al', 'c ho re .', 'The', 'ha m m er', 'he', 'u s ed', 'w ould', 'be', 'a', 'ter ri f ic', 'ha m m er .', 'The', 't ac k', 'he', 'd ro ve', 'w ould', 'out s ha de', 'o the r', 't ac k s', 'b y', 'f i ve', 'c ou n t r y', 'm i le s .', 'A nd', 'the', 'p ic t u re ?', 'G ad ,', 'w hat', 'a', 'ma st er p ie ce !', 'S er i ou s ly ,', 'one', 'h as', 'on ly', 'f o', 'v ie w', \"B r ow ne 's\", 'en th u si as m', 'for', 'li v ing', 'to', 'k n ow', 'it', 'for', 'w hat', 'it', 'is', '--', 'a', 'p r ic e le s s', 'g i f t .', 'H e', 'h as', 'w r it t en', 'un n u m be re d', 's h or t', 'st or i es', 'and ,', 'un d er', 'the', 'n a me', 'of', 'J o h n', 'E v an s ,', 'is', 'the', 'f a the r', 'of', 'ne ar', 'f ut u re .', 'W e', 'ha ve', 'w at c he d', 'hi m', 'w r it e', 'se ver al', 'of', 'his', 'st or i es', 'and', 'he', 'h ur l ed', 'hi m se l f', 'in to', 'e ac h', 'wi th', 'a', 'z e al', 'and', 'a', 'z e st', 'that', 's f un n ed', 'u s', 'in to', 'a', 'p ar ti al', 'p ar a ly s is .', 'S o', 'we', 'g i ve', 'you', 'H ow ar d', 'B r ow ne ,', 'a', 'h ar d', 'fe ll ow', 'to', 'c l as si f y', ';', 'an', 'a st ou nd ing', 'm i x t u re', 'of', 'B al z ac ,', 'a', 't en - t on', 'd y n a mo ,', 'and', 'P et er', 'P an .', 'B ut', 'th is', 'ab o ve', 'all', '--', 'a', 'g re at', 'g u y .', 'se e m ed', 'no t', 'so', 'm u c h', 'in d ic at i on s', 'of', 'de f i an ce', 'as', 'the y', 'd id', 'the', 're s u l t', 'of', 'so me', 'ter ri b le', 'and', 'de e p se at ed', 's ho c k ,', '\" L et \\'s', 'go', 'o ver', 'it', 'a g a in ,', 'Cordell , \"', 'Kirk', 'said .', 'The', 'you n g', 'man', 's w all ow ed', 'a u d i b ly', 'a g a in st', 'the', 'si l en ce .', 'O ne', 'of', 'his', 'h and s', 't w it c he d ,', 'c a me', 'u p', 'al mo st', 'to', 'his', 'f ac e', 'as', 'th ou gh', 'to', 's hi e ld', 'his e y es ,', 'the n', 'd ro p p ed', 'li m p ly', 'b ac k .', '\" T hat', 'li ght', '--', '\"', 'he', 'm u m b l ed .', '\"', '--', 'st ay s', 'on', ',', '#', 'Kirk', 'said', 'b r is k ly .', '#', 'The', 'q u ic k er', 'you', 't e ll', 'u s', 'the', 'an s w er s ,', 'the', 'q u ic k er', 'we', 'all', 're l a x .', 'O k ay ?\"', 'Cordell', 's ho o k', 'his', 'he ad', 'n u m b ly ,', 'no t', 'so', 'm u c h', 'in', 'ne g at i on', 'as', 'an', 'e f for t', 'to', 'c le ar', 'the', 'f o g', 'f ro m', 'his', 't or t u re d', 'm in d .', 'T', 'to ld', 'you , \"', 'he', 'c ri ed', 'ho ar se ly .', '\" W hat', 'r p of e', 'do', 'you', 'w ant ?', 'Y e st er d ay', 'I', 'to ld', 'you', 'the', 'w ho le', 'th ing .\"', 'H is', 'v o ic e', 'be g an', 'to', 'b or d er', 'on', 'h y st er i a .', '\" W hat', \"go o d 's\", 'm y', 't r y ing', 'to', 't e ll', 'you', 'i f', 'you', \"w on 't\", 'li st en ?', \"H ow 's\", 'a', 'g u y', 's u p p o s ed', '--', '\"', '\" The n', 't r y', 't e ll ing', 'it', 'st r a i ght ! \"', 'Kirk', 's n a p p ed .', '\" Y ou', 'th in k', \"you ' re\", 'f o o l ing', 'ar ou nd', 'wi th', 'ha l f - w it s ?', 'S u re', ';', 'you', 'to ld', 'u s .', 'A', 'c r a z y', 'p ac k', 'of', 'go of - b all', 'd re a m s', 'ab out', 'a', 'b l on de', 'b a be', 'c l u b b ing', 't w o', 'g r ow n', 'p e o p le', 'to', 'de a th ,', 'the n', 'd is a p p e ar ing', 'in', 'a', 'b all', 'of', 'b l u e', 'li ght !', 'Y ou', 'f i g u re', 'on', 'co p p ing', 'a', 'p le a', 'on', 'in s an it y ?\"', '\" I t \\'s', 'the', 't r u th ! \"', 'Cordell', 's h out ed .', '\" A s', 'G o d', 'he ar s', 'me ,', \"it 's\", 't r u e ! \"', 'S u d d en ly', 'he', 'b u ri ed', 'his', 'f ac e', 'in', 'his', 'h and s', 'and', 'l on g', 't e ar ing', 'so b s', 's ho o k', 'his', 's l en d er', 'f r a me .', 'O', 'ne', 'of', 'the', 'o the r', 'm en', 're ac he d', 'out', 'as', 'th ou gh', 'to', 'd r a g', 'the', 'you n g', \"man 's\", 'f ac e', 'b ac k', 'in to', 'the', 'wi the r ing', 'r ay s', 'of', 'the', 's p o t li ght ,', 'b ut', 'Kirk', 'mo ti on ed', 'hi m', 'a w ay .', 'W i th out', 'ha st e', 'the', 'L ie ut en ant', 'f is he d', 'a', 'c i g ar', 'f ro m', 'the', 'b re a st', 'p o c k et', 'of', 'his', 'co at', 'and', 'be g an', 'al mo st', 'le is u re ly', 'to', 'st ri p', 'a w ay', 'it s', 'ce ll o p h an e', 'w r a p p er .', 'A', 'k it c he n', 'm at c h', 'b ur st', 'in to', 'f l a me', 'un d er', 'the', 'f li c k', 'of', 'a', 'th u m b', 'n a i l', 'and', 'a', 'c l ou d', 'of', 'b l u e', 'to b ac co', 's mo ke', 'w ri the d', 'in to', 'the', 'c one', 'of', 'ho t', 'li ght .', '\" Cordell , \"', 'Kirk', 'said', 'm i ld ly .', 'S l ow ly', 'the', 'you n g', \"man 's\", 's h ould er s', 's to p p ed', 'the ir', 's ha k ing ,', 'and', 'a f ter', 'a', 'l on g', 'mo m ent', 'his', 'w an ,', 't e ar st a in ed', 'f ac e', 'c a me', 'b ac k', 'in to', 'the', 'li ght .', '\" I', '--', \"I ' m\", 's or r y , \"', 'he', 'm u m b l ed .', 'Kirk', 'w a v ed', 'a w ay', 'the', 'l ay er', 'of', 's mo ke', 'h an g ing', 'be t we en', 'the m .', 'H e', 'said', 'we ar i ly ,', '\" L et \\'s', 't r y', 'it', 'on ce', 'mo re .', 'S t e p', 'b y', 'st e p .', 'M ay be', 'th is', 'ti me . . .', 'H e', 'le t', 'the', 's ent en ce', 't r a i l', 'of f ,', 'b ut', 'the', 'in fe re n ce', 'was', 'c le ar .', 'A n', 'e x p re s si on', 'of', 'ho p e le s s', 're si g n at i on', 'se t t l ed', 'o ver', \"Cordell 's\", 'fe at u re s .', '\" W he re', 'do', 'you', 'w ant', 'me', 'to', 'st ar t ?\"', '\" T a ke', 'it', 'f ro m', 'f i ve', \"o ' c lo c k\", 'the', 'a f ter no on', 'it', 'ha p p en ed .\"', 'The', 't or t u re d', 'man', 'we t', 'his', 'li p s .', '\" F i ve', \"o ' c lo c k\", 'was', 'w he n', 'm y', 's hi f t', 'w ent', 'of f', 'at', 'the', 'p l ant .', 'The', 'p l ant ,', 'in', 'c as e', \"you ' ve\", 'for go t t en ,', 'is', 'the', 'A me s', 'C he m ic al', 'C o m p an y ,', 'and', \"I ' m\", 'a', 'f o re man', 'in', 'the', 'D r y', 'P ac k a g ing', 'de p ar t m ent .\"', '\" S a ve', 'you r', 's ar c as m , \"', 'Kirk', 'said', 'e q u ab ly .', '\" Y e a h .', 'I', 'c h an g ed', 'c lo the s', 'and', 'p un c he d', 'out', 'ar ou nd', 'f i ve - f i f t e en .', 'J u an it a', 'ha d', 'c all ed', 'me', 'ab out', 'f ou r', 'and', 'said', 'to', 'p ic k', 'her', 'u p', 'at', 'P r of es s or', \"G i l mo re 's\", 'l ab or at or y , \"', '#', 'A t', 'w hat', 'ti me ?\"', '\" N o', 's p e c i al', 'ti me .', 'J u st', 'w he n', 'I', 'c ould', 'g et', 'out', 'the re .', 'W e', 'we re', 'go ing', 'to', 'ha ve', 'd in n er', 'and', 't a ke', 'in', 'a', 'mo v ie .', \"i N ' o\", 'p ar t ic u l ar', 'p ic t u re ;', 's he', 'said', \"we ' d\", 'p ic k', 'one', 'out', 'of', 'the', 'p a p er', 'at', 'd in n er', '\"', '\" G o', 'on', '.', '#', '\" W e ll ,', 'it', \"m u st ' ve\", 'be en', 'ab out', 'q u ar ter', 'to', 'si x', 'w he n', 'I', 'go t', 'out', 'to', 'the', 'U n i ver s it y .', 'I', 'p ar k ed', 'in', 'f r on t', 'of', 'the', 'l ab or at or y', 'w ing', 'and', 'w ent', 'in', 'at', 'the', 'ma in', 'ent r an ce .', 'I', 'w al k ed', 'd ow n', 'the', 'c or r id or', 'to', 'the', 'P r of es s or s', 'of f ic e .', 'H is', 't y p i st', 'was', 'k no c k ing', 'out', 'so me', 'le t ter s', 'and', 'the re', 'we re', 'a', 'c ou p le', 'of', 'st u d ent s', 'h an g ing', 'ar ou nd', 'w a it ing', 'for', 'hi m', 'to', 's h ow', 'u p .', 'H ow', 'ab out', 'a', 's mo ke ,', 'L ie ut en ant ?\"', 'Kirk', 'no d d ed', 'to', 'one', 'of', 'the', 'm en', 'be h in d', 'hi m', 'and', 'a', 'p ac k a g e', 'of', 'c i g a re t t es', 'was', 'e x t en d ed', 'to', 'the', 'man', 'un d er', 'the', 'li ght .', 'A', 'm at c h', 'was', 'p r of fe re d', 'and', 'the', 'you n g', 'man', 'i g n it ed', 'the', 'w h it e', 't u be ,', 'his', 'h and s', 's ha k ing', 'b ad ly .', 'The', 'L ie ut en ant', 'c ro s s ed', 'his', 'le g s', 'the', 'o the r', 'w ay .', '\" L et \\'s', 'he ar', 'the', 're st', 'of', 'it ,', 'f ri en d .\"', '\" W hat', 'for ?\"', 'B it ter n es s', 't ing ed', \"Cordell 's\", 'v o ic e .', '\" Y o U', \"d on 't\", 'be li e ve', 'a', 'w or d', \"I ' m\", 's ay ing .\"', '\" U p', 'to', 'n ow', 'I', 'do', '\"', '\" W e ll .', 'I', 'said', 'so me th ing', 'or', 'o the r', 'to', 'A l ma', '--', \"s he 's\", 'the', 'P r of s', 'se c re t ar y', '--', 'and', 'w ent', 'on', 'th r ou gh', 'the', 'do or', 'to', 'the', 'ha ll', 'that', 'le ad s', 'to', 'the', 'p ri v at e', 'l ab .', 'W he n', 'I', 'go t', '--', '#', 'K', 'irk', 'he ld', 'u p', 'a', 'h and .', '\" W a it', 'a', 'm in ut e .', 'Y ou r', 'b u st ing', 'ri ght', 'in', 'on', 'the', 'P r of es s or', 'li ke', 'that', \"do es n 't\", 's ou nd', 'ri ght .', 'W h y', 'no t', 'w a it', 'in', 'the', 'of f ic e', 'for', 'you r', 'wi fe ?\"', '\" W hat', 'for ?\"', 'Cordell', 's q u in t ed', 'at', 'hi m', 'in', 's ur p r is e .', '\" H e', 'and', 'I', 'g et . . .', ',', 'go t', 'al on g', 'f in e .', 'W he n', 'J u an it a', 'f ir st', 'w ent', 'to', 'w or k', 'for', 'hi m', 'he', 'said', 'to', 'd ro p', 'in', 'at', 'the', 'l ab', 'an y', 'ti me ,', 'no t', 'to', 'w a it', 'in', 'the', 'out er', 'of f ic e', 'li ke', 'a', 'f re s h man', 'or', 'so me th ing .\"', '\" G o', 'a he ad .\"', '\" W e ll . . .', 'The', 'you n g', 'man', 'he s it at ed .', '\" W e \\' re', 'b ac k', 'to', 'the', 'p ar t', 'you', \"d on 't\", 'be li e ve ,', 'O f f ic er .', 'I', \"c an 't\", 'h ar d ly', 'be li e ve', 'it', 'm y se l f', ';', 'b ut', 'so', 'he l p', 'me ,', \"it 's\", 'go s p e l .', 'I', 'sa w', 'it ! \"', '\" I \\' m', 'w a it ing .\"', 'Cordell', 'said', 'do g g ed ly :', '\" The', 'l ab', 'do or', 'was', 'o p en', 'a', 'c r ac k .', 'I', 'he ar d', 'a', \"w o man 's\", 'v o ic e', 'in', 'the re ,', 'and', '.', 'it', \"was n 't\", 'm y', \"wi fe 's .\", 'I t', 'was', 'a', 'v o ic e', 'li ke', '--', 'li ke', 'c r ac k ed', 'ic e .', 'Y ou', 'k n ow :', 'co ld', 'and', 'k in d', 'of . . .', 'we ll . . .', 'b r it t le', 'and', '--', 'and', 'de ad ly .', \"T hat 's\", 'the', 'on ly', 'w ay', 'I', 'c an', 'de s c ri be', 'it .', '\" A n y w ay ,', 'I', 's or t', 'of', 'he s it at ed', 'the re ,', 'out si de', 'the', 'do or .', 'I', \"d id n 't\", 'w ant', 'to', 'go', 'b u ll ing', 'in', 'on', 'so me th ing', 'that', \"was n 't\", 'n one', 'of', 'm y', 'b u s in es s . . .', 'b ut', 'on', 'the', 'o the r', 'h and', 'I', 'f i g u re d', 'm y', 'wi fe', 'was', 'in', 'the re ,', 'e l se', 'A l ma', \"w ould ' ve\", 'said', 'so .\"', '\" Y ou', 'he ar', 'an y th ing', 'b es i de s', 'th is', 'co ll e c ti on', 'of', 'ic e', 'c u b es ?\"', \"'\", 'The', 'you n g', \"man 's\", 'j a w', 'h ar d en ed .', '\" I \\' m', 'g i v ing', 'it', 'the', 'w ay', 'it', 'ha p p en ed .', 'Y ou', 'w ant', 'the', 're st ,', 'or', 'you', 'w ant', 'to', 't r a de', 'w is e', 'c r ac k s ?\"', 'O ne', 'of', 'the', 'm en', 'be h in d', 'Kirk', 'l un g ed', 'for w ar d .', '\" W h y ,', 'you', 'c he a p', 'p un k', '--', '\"', 'Kirk', 's to p p ed', 'hi m', 'wi th', 'an', 'ar m .', '\" I \\' ll', 'h and le', 'th is ,', 'M i ll er .\"', 'T o', 'Cordell :', '\" I', 'as k ed', 'you', 'a', 'q u e st i on .', 'A n s w er', 'it .\"', '\" I', 'he ar d', 'P r of es s or', 'G i l mo re .', 'O n ly', 'a', 'c ou p le', 'w or d s ,', 'the n', 't w o', 'q u ic k', 'f l as he s', 'of', 'li ght', 'l it', 'u p', 'the', 'f ro st ed', 'g l as s', 'do or', 'p an e l .', \"T hat 's\", 'w he n', 'I', 'he ar d', 'the se', 't w o', 'th u m p s', 'li ke', 'w he n', 'so me b o d y', 'f all s', 'd ow n .', 'I', 's ho v ed', 'o p en', 'the', 'do or', 'f a st . . .', 'and', 'ri ght', 'the n', 'I', 'sa w', 'her ! \"', 'Kirk', 'no d d ed', 'for', 'no', 'a p p a re n t', 're as on', 'and', 'was', 'c a re f u l', 'ab out', 'k no c k ing', 'a', 'q u ar ter', 'in c h', 'of', 'as h', 'of f', 'his', 'c i g ar .', '\" T e ll', 'me', 'ab out', 'her .\"', 'The', 'you n g', \"man 's\", 'h and s', 'we re', 's ha k ing', 'a g a in .', 'H e', 's u c k ed', 'at', 'his', 'c i g a re t t e', 'and', 'le t', 'the', 's mo ke', 'co me', 'out', 'wi th', 'his', 'w or d s', ':', '\" S he', 'was', 'c le ar', 'o ver', 'on', 'the', 'o the r', 'si de', 'of', 'the', 'l ab . . .', 'st and ing', 'a', 'go o d', 't w o', 'fe et', 'of f', 'the', 'f lo or', 'in', 'the', 'm id d le', 'of', 'a', 'b i g', 'b l u e', 'b all', 'of', 'so me', 'k in d', 'of', '--', 'of', 's of t', 'f i re .', 'B l u e', 'f i re', 'that', 's or t', 'of', 'p u l s ed', '--', 'you', 'k n ow .', 'A n y w ay ,', 'the re', 's he', 'was :', 'th is', 'he ll', 'of', 'a', 'go o d - lo o k ing', 'b l on de', ';', 'lo o k ing', 'ri ght', 's m ac k', 'at', 'me ,', 'and', 'the re', 'was', 'th is', 'f un n y', 'k in d', 'of', 'g un', 'in', 'her', 'h and .', 'S he', 'a i m ed', 'it', 'and', 'I', 'd u c k ed', 'j u st', 'as', 'th is', 'd i m', 'f l as h', 'of', 'li ght', 'c a me', 'out', 'of', 'it .', 'S o me th ing', 'h it', 'me', 'on', 'the', 'si de', 'of', 'the', 'he ad', 'and', 'I . . .', 'we ll ,', 'I', 'g u es s', 'I', 'b l an k ed', 'out .\"', '\" The n', 'w hat ?\"', '\" W e ll ,', 'li ke', 'I', 'said', 'y e st er d ay ,', 'I', 's u p p o se', 'I', 'j u st', 'n at ur all y', 'c a me', 'out', 'of', 'it .', \"I ' m\", 'all', 's p re ad', 'out', 'on', 'the', 'f lo or', 'wi th', 'the', 'd a m n de st', 'he ad ac he', 'you', 'e ver', 'sa w .', 'O ver', 'b y', 'the', \"w in d ow '\", 'is', 'the', 'P r of', 'and', '--', '\"', 'he', 'we t', 'his', 'li p s', '--', '\" and', 'J u an it a .', \"The y ' re\", 'de ad .', 'L ie ut en ant ;', 'j u st', 'k in d', 'of', 'all', 'p i l ed', 'u p', 'o ver', 'the re . . .', 'de ad ,', 'the ir', 'he ad s', 'b u st ed', 'in', 'and', 'the', '--', 'the', '--', 'the', '--', '\"', 'H', 'e', 's at', 'the re ,', 'his', 'm ou th', 'w or k ing', 'b ut', 'no', 's ou nd', 'co m ing', 'out ,', 'his', 'e y es', 'st ar ing', 'st r a i ght', 'in to', 'the', 'b l a z ing', 'li ght ,', 'the', 'c i g a re t t e', 's m ould er ing ,', 'for go t t en ,', 'be t we en', 'the', 'f ir st', 't w o', 'f ing er s', 'of', 'his', 'le f t', 'h and .', 'A l mo st', 'g ent ly', 'Kirk', 'said :', '\" L et \\'s', 'go', 'b ac k', 'to', 'w he re', 'you', 'we re', 'st and ing', 'out si de', 'the', 'do or .', 'Y ou', 'he ar d', 'th is', 'w o man', 't al k ing .', 'W hat', 'd id', 's he', 's ay ?\"', 'Cordell', 'lo o k ed', 'si ght le s s ly', 'd ow m', 'at', 'his', 'h and s .', '\" N o th ing', 'that', 'ma de', 's en se .', 'S ou nd ed ,', 'ne ar', 'as', 'I', 'c an', 're me m b er ,', 'li ke :', \"' T we l ve\", 'ti me s', \"z er o '\", '--', 'the n', 'so me', 'w or d s ,', 'or', 'mo re', 'n u m b er s', 'm ay be', '--', \"I ' m\", 'no t', 's u re', '--', 'the n', '#', 's he', 'said ,', \"' C ha in ed\", 'to', 'a', 't w o', 'h un d re d', 'th ou s and', \"y e ar s '\", '--', 'and', 'the', 'P r of es s or', 'said', 'so me th ing', 'ab out', 'his', 'co ll e g es', 'ha v ing', 'no', 'i de a', 'and', \"he ' d\", 'w ar n', 'the m', '--', 'and', 'the', 'b l on de', 'said ,', \"' T h re e\", 'in', 'the', 'p a st', 'f i ve', \"m on th s '\", '--', 'and', 'the n', 'so me th ing', 'ab out', 't a k ing', 'in', 'was h ing', '--', '\"', \"'\", 'The', 'de t e c ti ve', 'n a m ed', 'M i ll er', 'g a ve', 'a', 'd er is i ve', 'g r un t .', '\" O f', 'all', 'the', 'go d d a m', 'st or i es !', 'Kirk ,', 'you', 'g on n a', 'li st en', 'to', 'an y', '--', '\"', 'Kirk', 'si l en c ed', 'hi m', 'wi th', 'a', 'g e st u re .', '\" G o', 'on ,', 'Cordell \"', 'The', 'you n g', 'man', 's l ow ly', 'li f t ed', 'the', 'c i g a re t t e', 'to', 'his', 'm ou th ,', 'd r a g g ed', 'he a v i ly', 'on', 'it ,', 'the n', 'le t', 'it', 'f all', 'to', 'the', 'f lo or .', '\" T hat \\'s', 'all .', \"T hat 's\", 'w he n', 'the', 'li ght s', 'st ar t ed', 'f l as h ing', 'in', 'the re', 'and', 'I', 't ri ed', 'to', 'be', 'a', 'he ro .\"', '\" S u re', \"you ' ve\", 'le f t', 'no th ing', 'out ?\"', '\" Y ou \\' ve', 'go t', 'it', 'all .', 'The', 't r u th ,', 'li ke', 'you', 'w ant ed .\"', 'Kirk', 'said', 'p at i ent ly ,', '\" G i ve', 'it', 'u p ,', 'Cordell .', \"Y ou ' re\", 'as', 's an e', 'as', 'the', 'ne x t', 'g u y .', 'G i ve', 'that', 'st or y', 'to', 'a', 'j ur y', 'and', \"the y ' ll\", 'f i g u re', \"you ' re\", 't r y ing', 'to', 'ma ke', 'sa p s', 'out', 'of', 'the m', '--', 'and', 'w he n', 'a', 'j ur y', 'g et s', 'so re', 'at', 'a', 'de f en d ant ,', 'he', 'g et s', 'the', 'li m it .', 'A nd', 'in', 'c as e', 'you', \"d id n 't\", 'k n ow :', 'in', 'th is', 'S t at e ,', 'the', 'li m it', 'for', 'm ur d er', 'is', 'the', 'ho t', 'se at ! \"', 'The', 'p r is on er', 'st a re d', 'at', 'hi m', 'w o o d en ly .', '\" Y ou', 'k n ow', 'I', 'd id r P t', 'k i ll', 'm y', 'wi fe', '--', 'or', 'P r of es s or', 'G i l mo re .', 'I', 'ha d', 'no', 're as on', 'to', '--', 'no', 'mo ti ve .', \"The re 's\", 'go t', 'to', 'be', 'a', 'mo ti ve .', 'The', 'p o li ce', 'of f ic er', 'r u b b ed', 'his', 'c h in', 're f le c ti ve ly .', '\" U h - h un h .', 'M o ti ve .', 'H ow', 'l on g', 'you', 'm ar ri ed ,', 'Cordell ?\"', '\" S i x', 'y e ar s .\"', '\" C hi ld re n ?\"', '\" N o .\"', '\" A me s', 'C he m ic al', 'p ay', 'you', 'a', 'go o d', 's al ar y', '?\"', '\" E n ou gh .\"', '\" E n ou gh', 'for', 't w o', 'to', 'li ve', 'on ?\"', '\" S u re \"', '\" H ow', 'l on g', 'd id', 'you r', 'wi fe', 'w or k', 'for', 'P r of es s or', 'G i l mo re ?\"', '\" F ou r', 'y e ar s', 'ne x t', 'm on th .\"', '\" W hat', 'was', 'her', 'j o b ?\"', '\" H is', 'as si st ant .\"', '\" P re t t y', 'b i g', 'j o b', 'for', 'a', 'w o man ,', \"was n 't\", 'it ?\"', '\" J u an it a', 'he ld', 't w o', 'de g re es', 'in', 'n u c le ar', 'p h y s ic s .\"', '\" Y ou', 'me an', 'th is', 'at o m', 'b o m b', 'st u f f ?\"', '\" T hat', 'was', 'p ar t', 'of', 'it .\"', '\" G i l mo re \\'s', 'a', 'b i g', 'n a me', 'in', 'that', 'f ie ld ,', 'I', 'un d er st and .\"', 'Kirk', 'said .', '\" M ay be', 'the', 'b i g g e st .\"', '\" K in d', 'of', \"you n g '\", 'to', 'r at e', 'that', 'hi gh ,', \"w ould n 't\", 'you', 's ay ?', 'H e', \"c ould n 't\", 'ha ve', 'be en', 'm u c h', 'p a st', 'for t y .\"', 'Cordell', 's h r u g g ed .', '\" H e', 'was', 'th ir t y - e i ght', '--', 'and', 'a', 'g en i u s .', 'G en i u s', 'h as', 'no th ing', 'to', 'do', 'wi th', 'a g e ,', 'I', 'he ar .\"', '\" N o t', 'm ar ri ed ,', 'I', 'un d er st and .\"', '\" T hat \\'s', 'ri ght . . .\"', 'A', 's l ow', 'f r ow n', 'was', 'for m ing', 'on', \"Cordell 's\", 'f ac e .', '\" H ow', 'o ld', 'was', 'you r', 'wi fe ?\"', 'Kirk', 'as k ed .', 'The', 'f r ow n', 'de e p en ed', 'b ut', 'the', 'you n g', 'man', 'an s we re d', 'p ro m p t ly', 'en ou gh .', '\" J u an it a', 'was', 'm y', 'a g e .', 'T w ent y - n in e .\"', 'M ar t in', 'Kirk', 'e y ed', 'his', 'c i g ar', 'c as u all y .', '\" W h y , \"', 'he', 'said ,', '\" d id', 'you', 'w ant', 'her', 'to', 'w al k', 'out', 'on', 'her', 'j o b ;', 'to', 'g i ve', 'u p', 'her', 'c a re er ?\"', 'Cordell', 'st i f f en ed .', '\" W ho', 's ay s', 'I', 'd id ?\"', 'he', 's n a p p ed .', '\" A re', 'you', 'd en y ing', 'it ?\"', '\" Y ou \\' re', 'd a m n', 'we ll', 'ri ght', \"I ' m\", 'd en y ing', 'it !', 'W hat', 'is', 'th is ?\"', 'K', 'irk', 'was', 's l ow ly', 's ha k ing', 'his', 'he ad', 'al mo st', 'p it y ing ly .', '\" O n', 'at', 'le a st', 't w o', 'o c c as i on s', 'f ri en d s', 'of', 'you', 'and', 'you r', 'wi fe', 'ha ve', 'he ar d', 'you', 's ay', 'you', 'w is he d', \"s he ' d\", 'st ay', 'ho me', 'w he re', 's he', 'be l on g ed', 'and', 'c ut', 'out', 'th is', \"' p l ay ing\", 'ar ou nd', 'wi th', 'a', 'me s s', 'of', 't e st', 't u b es ?', 'T ho se', 'a re', 'you r', 'ow n', 'w or d s ,', 'Cordell .\"', '\" E ver y', 'g u y , \"', 'the', 'you n g', 'man', 're t or t ed ,', '\" w ho \\'s', 'go t', 'a', 'w or k ing', 'wi fe', 's ay s', 'so me th ing', 'li ke', 'that', 'n ow', 'and', 'the n .', \"I t 's\", 'on ly', 'n at ur al .\"', \"Kirk 's\", 'j a w', 'h ar d en ed .', '\" B ut', 'e ver y', \"g u y 's\", 'wi fe', \"do es n 't\", 'g et', 'm ur de re d .\"', 'The', 'o the r', 'lo o k ed', 'at', 'hi m', 'un be li e v ing ly .', '\" G o o d', 'G o d , \"', 'he', 'b ur st', 'out ,', '\" a re', 'you', 's ay ing', 'I', 'k i ll ed', 'J u an it a', 'be c a u se', 'I', 'w ant ed', 'her', 'to', 's to p', 'w or k ing ?', 'O f', 'all', 'the', '--', '\"', '\" The re \\'s ,', 'mo re ! \"', 's n a p p ed', 'the', 'H o m ic i de', 'man .', '\" W he n', 'you', 'p as s ed', 'P r of es s or', \"G i l mo re 's\", 'se c re t ar y', 'in', 'his', 'out er', 'of f ic e', 'y e st er d ay ,', 'w hat', 'd id', 'you', 's ay', 'to', 'her ?\"', '\"', \"' S ay\", 'to', \"her ? '\", '\"', \"' the ,\", 'p r is on er', 'e c ho ed', 'in', 'a', 'd a z ed', 'w ay .', '\" I', \"d on 't\", 'k n ow', 'that', '# . . .', 'S o me', 'k id d ing', 're m ar k ,', 'I', 'g u es s .', 'H ow', 'do', 'you', 'e x p e c t', 'me', 'to', 're me m b er', 'a', 'th ing', 'li ke', 'that ?\"', '\" I \\' ll', 't e ll', 'you', 'w hat', 'you', 'said , \"', 'Kirk', 'said', 'co ld ly .', '\" I t', 'go es', 'li ke', 'th is :', \"' H i ,\", 'A l ma .', 'Y ou', 'th in k', 'the', \"P r of 's\", 'th r ou gh', 'ma k ing', 'lo ve', 'to', 'm y', \"wi fe ? '\", '\"', \"Cordell 's\", 'he ad', 's n a p p ed', 'b ac k', 'and', 'h ! s', 'j a w', 'd ro p p ed', 'in', 'ut ter', 'a ma z e m ent .', '\" W hat !', 'O f', 'all', '--', '!', 'Y ou', 'n ut s', '?', 'I', 'ne ver', 'said', 'an y th ing', 'li ke', 'that', 'in', 'm y', 'li fe !', 'W ho', 's ay s', 'I', 'said', 'that ?\"', 'W i th out', 'ha st e', 'Kirk', 's li d', 'a', 'h and', 'in to', 'the', 'in n er', 'p o c k et', 'of', 'his', 'co at', 'and', 'b r ou ght', 'out', 't w o', 'f o ld ed', 's he et s', 'of', 'p a p er', 'w h ic h', 'he', 'o p en ed', 'and', 's p re ad', 'out', 'on', 'his', 'k ne e .', '\" L i st en', 'to', 'th is ,', 'f ri en d , \"', 'he', 'said', 's of t ly .', '\"', \"' M y\", 'n a me', 'is', 'M is s', 'A l ma', 'D a k in .', 'I', 're si de', 'at', '#', 'M on ro e', 'S t re et ,', 'and', 'ar n', 'e m p lo y ed', 'as', 'se c re t ar y', 'to', 'P r of es s or', 'G re g or y', 'G i l mo re .', 'A t', 'a p p ro x i m at e ly', '#', ':', '#', 'on', 'the', 'a f ter no on', 'of', 'O c to b er', '# ,', 'P a u l', 'Cordell ,', 'h u s b and', 'of', 'M r s .', 'J u an it a', 'Cordell ,', 'l ab or at or y', 'as si st ant', 'to', 'P r of es s or', 'G i l mo re ,', 'p as s ed', 'm y', 'de s k', 'on', \"his ' w ay\", 'in to', 'the', 'l ab or at or y .', 'I', 'ma de', 'no', 'e f for t', 'to', 's to p', 'hi m ,', 's in ce', 'm y', 'e m p lo y er', 'ha d', 'p re v i ou s ly', 'in st r u c t ed', 'me', 'to', 'all ow', 'M r .', 'Cordell', 'to', 'go', 'd i re c t ly', 'to', 'the', 'l ab or at or y', 'at', 'an y', 'ti me', 'wi th out', 'be ing', \"an n ou n c ed . '\", '\"', 'Kirk', 'lo o k ed', 'u p', 'at', 'the', 'man', 'in', 'the', 'c ha ir', 'o p p o s it e', 'hi m .', '\" O k ay', 'so', 'f ar ?\"', 't', 'P a u l', 'Cordell', 'no d d ed', 'n u m b ly .', '\"', \"' A t\", 'the', 'ti me', 'st at ed', \"ab o ve , '\", '\"', 'Kirk', 'c on t in u ed ,', 're ad ing', 'f ro m', 'the', 'p a p er ,', '\"', \"' M r .\", 'Cordell', 's to p p ed', 'b ri e f ly', 'in', 'f r on t', 'of', 'm y', 'de s k .', 'H e', 'se e m ed', 'ver y', 'an g r y', 'ab out', 'so me th ing .', 'H e', 'said ,', '\" H i ,', 'A l ma .', 'Y ou', 'th in k', 'the', \"P r of 's\", 'th r ou gh', 'ma k ing', 'lo ve', 'to', 'm y', 'wi fe ?\"', 'B e f o re', 'I', 'c ould', 's ay', 'an y th ing ,', 'he', 't ur n ed', 'a w ay', 'and', 'w al k ed', 'in to', 'the', 'c or r id or', 'le ad ing', 'to', 'the', 'l ab or at or y .', 'I', 'c on t in u ed', 'm y', 'w or k', 'un ti l', 'ab out', 'f i ve', 'm in ut es', 'l at er', 'w he n', 'M r .', 'Cordell', 'c a me', 'r un n ing', 'b ac k', 'in to', 'the', 'of f ic e', 'and', 'to ld', 'me', 'to', 'c all', 'the', 'p o li ce ,', 'that', 'P r of es s or', 'G i l mo re', 'and', 'M r s .', 'Cordell', 'ha d', 'be en', 'm ur de re d .', '\"', \"' S in ce\", 'the re', 'is', 'an', 'a u to m at ic', 'c lo s er', 'on', 'the', 'c or r id or', 'do or ,', 'I', 'd id', 'no t', 'se e', 'M r .', 'Cordell', 'ent er', 'the', \"l ab or at or y '\", 'it se l f .', 'I', 'do', '\" k n ow ,', 'h ow e ver ,', 'that', 'P r of es s or', 'G i l mo re', 'and', 'M r s .', 'Cordell', 'w', 'r', 'e re', 'al one', 'in', 'the', 'l ab or at or y', 'le s s', 'th an', 't en', 'm in ut es', 'be f o re', 'M r .', 'Cordell', 'ar ri v ed ,', 'as', 'I', 'ha d', 'j u st', 'le f t', 'the m', 'al one', 'the re', 'a f ter', 't a k ing', 'so me', 'd ic t at i on', 'f ro m', 'm y', 'e m p lo y er .', 'S in ce', 'I', 'w ent', 'd i re c t ly', 'to', 'm y', 'de s k ,', 'and', 's in ce', 'the re', 'is', 'no', 'ent r an ce', 'to', 'the', 'l ab or at or y', 'o the r', 'th an', 'th r ou gh', 'm y', 'of f ic e ,', 'I', 'c an', 'st at e', 'wi th', 'c er t a in t y', 'that', 'M r .', 'Cordell', 'was', 'the', 'on ly', 'p er s on', 'to', 'ent er', 'the', 'l ab or at or y', 'be t we en', '# : #', 'that', 'a f ter no on', 'and', '#', ':', '#', 'w he n', 'M r .', 'Cordell', 'c a me', 'out', 'of', 'the', 'l ab or at or y', 'and', 'to ld', 'me', 'of', 'the', 'm ur d er s .', '\"', \"' I\", 'he re b y', 'de p o se', 'that', 'th is', 'is', 'a', 't r u e', 'and', 'h one st', 'st at e m ent ,', 'to', 'the', 'be st', 'of', 'm y', 'k n ow l ed g e ,', 'that', 'it', 'was', 'g i v en', 'f re e ly', 'on', 'm y', 'p ar t ,', 'and', 'that', 'I', 'ha ve', 're ad', 'it', 'be f o re', 'a f f i x ing', 'm y', 'si g n at u re', 'to', 'it s', 'p a g es .', 'S i g n ed :', 'A l ma', 'K .', \"D a k in . '\", '\"', 'T', 'he re', 'was', 'an', 'al mo st', 'o m in ou s', 'c r ac k le', 'to', 'the', 'do c u m ent', 'as', 'L ie ut en ant', 'Kirk', 'f o ld ed', 'it', 'and', 're t ur n ed', 'it', 'to', 'his', 'p o c k et .', 'P a u l', 'Cordell', 'a p p e a re d', 'ut ter ly', 'st un n ed', 'b y', 'w hat', 'he', 'ha d', 'he ar d', 'and', 'his', 'on ce', 'st i f f ly', 's q u a re d', 's h ould er s', 'we re', 's l u m p ed', 'li ke', 'th o se', 'of', 'an', 'o ld', 'man .', '\" I', \"d on 't\", 'ha ve', 'to', 't e ll', 'you , \"', 'Kirk', 'said ,', '\" that', 'the', 'on ly', 'w in d ow', 'in', 'that', 'l ab or at or y', 'is', 'b o th', 'p er man ent ly', 'se al ed', 'and', 'he a v i ly', 'b ar re d .', 'N o', 'one', 'b ut', 'you', 'c ould', 'ha ve', 'm ur de re d', 'th o se', 't w o', 'p e o p le .', 'Y ou', 's ay', 'you', 'sa w', 'the m', 'k i ll ed', 'b y', 'so me', 'k in d', 'of', 'a', 'g un .', 'Y et', 'a', 'q u a li f i ed', 'p h y s ic i an', 'st at es', 'b o th', 'de a th s', 'we re', 'c a u s ed', 'b y', 'a', 'ter ri f ic', 'b l ow', 'f ro m', 'a', 'b l un t', 'in st r u m ent', 'W e', 'f ou nd', 'a', 'lo t', 'of', 'ti l ing s', 'ar ou nd', 'the', 'l ab', 'you', 'c ould', 'ha ve', 'u s ed', 'to', 'do', 'the', 'j o b', '--', '- b ut', 'no th ing', 'at', 'all', 'of', 'an y th ing', 'li ke', 'a', 'p ro j e c ti le', 'f i re d', 'f ro m', 'a', 'g u m \"', 'The', 'p r is on er', 'o b v i ou s ly', \"was n 't\", 'li st en ing ,', '\" B', '--', 'b ut', 's he', '--', 's he', 'li ed ! \"', 'he', 'st a m me re d', 'wi ld ly .', '\" A ll', 'I', 'said', 'to', 'A l ma', 'D a k in', 'was', 'a', 'c ou p le', 'of', 'w or d s', '--', 'th re e', 'or', 'f ou r', 'at', 'the', 'mo st', '--', 'ab out', 'no t', 'w or k ing', 'to o', 'h ar d .', 'W h y', 's h ould', 's he', 'p ut', 'me', 'on', 'a', 's p o t', 'li ke', 'that ?', 'I', 'j u st', '--', \"d on 't\", '--', 'g et', '--', 'it !', 'W h y', 's h ould', 's he', 'go', 'out', 'of', 'her', 'w ay', 'to', 'ma ke', 't r ou b le . . .', 'D a w n ing', 's u s p ic i on', 're p l ac ed', 'his', 'be wi ld er m ent .', '\" I', 'g et', 'it !', 'Y ou', 'co p s', 'p ut', 'her', 'u p', 'to', 'th is ;', \"that 's\", 'it !', 'Y ou', 'ne ed', 'a', 'f all', 'g u y', 'and', \"I ' m\", '\" L i st en', 'to', 'me ,', 'Cordell , \"', 'Kirk', 'c ut', 'in', 'i m p at i ent ly .', '\" Y ou', 'k ne w ,', 'or', 'th ou ght', 'you', 'k ne w ,', 'you r', 'wi fe', 'was', 'ha v ing', 'an', 'a f f a ir', 'wi th', 'P r of es s or', 'G i l mo re .', 'Y ou', 't ri ed', 'to', 'b re a k', 'it', 'u p ,', 'to', 'g et', 'her', 'to', 'le a ve', 'her', 'j o b .', 'S he', \"was n 't\", 'ha v ing', 'an y', 'of', 'that ;', 'and', 'the', 'mo re', 's he', 're f u s ed ,', 'the', 'so re r', 'you', 'go t .', 'Y e st er d ay', 'you', 'w al k ed', 'in', 'on', 'the m', 'un an n ou n c ed ,', 'f ou nd', 'the m', 'in', 'e ac h', \"o the r 's\", 'ar m s ,', 'and', 'k no c k ed', 'the m', 'b o th', 'of f', 'in', 'a', 'j e al ou s', 'r a g e .', 'W he n', 'you', 'co o l ed', 'd ow n', 'en ou gh', 'to', 'se e', 'w hat', \"you ' d\", 'd one ,', 'you', 'in v ent ed', 'th is', 'wi ld', 'y ar n', 'ab out', 'a', 'b l on de', 'in', 'a', 'b all', 'of', 'f i re ,', 'ho p ing', 'to', 'g et', 'of f', 'on', 'an', 'in s an it y', 'p le a .\"', '\" I', 'w ant', 'a', 'l a w y er ! \"', 'Cordell', 's h out ed .', 'Kirk', 'i g no re d', 'the', 'de m and .', '\" Y ou \\' re', 'go ing', 'b ac k', 'to', 'you r', 'ce ll', 'for', 'a', 'c ou p le', 'h ou r s ,', 'b u st er .', 'T h in k', 'th is', 'o ver .', 'W he n', \"you ' re\", 're ad y', 'to', 't e ll', 'it', 'ri ght ,', 'I', 'w ant', 'it', 'in', 'the', 'for m', 'of', 'a', 'w it n es s ed', 'st at e m ent ,', 'on', 'p a p er .', 'I f', 'you', 'do', 'that ,', 'i f', 'you', 'co - o p er at e', 'wi th', 'the', 'a u th or it i es ,', 'you', 'c an', 'p ro b ab ly', 'g et', 'of f', 'wi th', 'a', 'f a ir ly', 'li ght', 's ent en ce ,', 'm ay be', 'e v en', 'an', 'out ri ght', 'ac q u it t al ,', 'on', 'the', 'o ld', \"' un w r it t en\", \"l a w '\", 'p le a .', 'I', \"d on 't\", 'ma ke', 'an y', 'p ro m is es .', 'G i l mo re', 'was', 'a', 'p ro m in ent', 'man', 'and', 'a', 'v al u ab le', 'one ;', 'that', 'm i ght', 'in f l u en ce', 'a', 'j ur y', 'a g a in st', 'you .', 'B ut', \"it 's\", 'the', 'on ly', 'c h an ce', \"you ' ve\", 'go t', '--', 'and', \"I ' m\", 't e ll ing', 'you ,', 'b y', 'G o d ,', 'to', 't a ke ,', 'it ! \"', 'Cordell', 'was', 'st and ing', 'n ow ,', 'his', 'f ac e', 'w or k ing .', '\" S u re ;', 'I', 'g et', 'it !', 'A ll', \"you ' re\", 'a f ter', 'is', 'a', 'c on f es si on .', 'W hat', 'do', 'you', 'c a re', 'i f', \"it 's\", 'a', 'f lo c k', 'of', 'li es ?', 'M y', 'wi fe', \"w ould n 't\", 'e v en', 'lo o k', 'at', 'an o the r', 'man ,', 'and', 'no t', 'you', 'or', 'an y b o d y', 'e l se', 'is', 'go ing', 'to', 'ma ke', 'me', 's ay', 'd i f fe re n t .', 'T hat', 'b l on de', 'k i ll ed', 'the m ,', 'I', 't e ll', 'you', '--', 'and', \"I ' ll\", 't e ll', 'a', 'j ur y', 'the', 'sa me', 'th ing !', \"The y ' ll\", 'be li e ve', 'me ;', \"the y ' re\", 'no t', 'a', 'b un c h', 'of', 'l ou s y', 'f r a m ing', 'co p s !', \"Y ou ' ll\", 'f in d', 'out', \"w ho 's\", '--', '\"', 'L ie ut en ant', 'M ar t in', 'Kirk', 'we ar i ly', 'g r ou nd', 'out', 'his', 'c i g ar', 'a g a in st', 'the', 'c ha ir', 'r un g .', '\" A ll', 'ri ght ,', 'b o y s .', 'T a ke', 'hi m', 'b ac k', 'u p st a ir s .\"', 'C ha p ter', 'I I', 'I', 'T', 'was', 'a', 'g r ay', 'c hi ll', 'd ay', 'l at e', 'in', 'N o ve m b er ,', 'and .', 'b y', '# : #', 'that', 'a f ter no on', 'the', 'ce i l ing', 'li ght s', 'we re', 'on .', 'C he n ow ic h ,', 'the', 'you n g', 'p l a in c lo the s', 'man', 're c ent ly', 't r an s f er re d', 'to', 'H o m ic i de', 'f ro m', 'R o b b er y', 'D et a i l ,', 's to p p ed', 'at', 'M ar t in', \"Kirk 's\", 'c u b b y ho le', 'and', 's li d', 'an', 'e v en ing', 'p a p er', 'ac ro s s', 'the', 'b at t e re d', 'b r ow n', 'l in o le u m', 'to p', 'of', 'the', \"L ie ut en ant 's\", 'de s k .', '\" T his', 'ou ght a', 'in t e re st', 'you', '#', 'he', 'said ,', 'j ab b ing', 'a', 'c he w ed', 'th u m b n a i l', 'at', 'an', 'it e m', 'un d er', 'a', 't w o - co l u m n', 'm', 'the', 'le f t', '#', 's', 'er', 'of', 'W i fe', 'and', 'A to m', 'W i z ar d', '.', ',', 'was', 'to d ay', 'C ri m in al', 'C ou r t', 'J u st ic e', 'P .', 'R e ed', 'to', 'de a th', 'b y', 'e le c t ro de', 'm or n ing', 'of', 'J an u ar y', '# ,', 'the', 'm ur d er s', 'of', 'his', 'wi fe ,', 'J u an # ,', 'and', 'her', 'e m p lo y er ,', 'w or ld f a m ou s', 'n u c le ar', 's c i ent i st', 'G re g or y', 'mo re .', 'A', 'j ur y', 'l a st', 'we e k', 'f ou nd', 'Cordell', 'u i l t y', 'of', 'the', 'b r ut al', 's l ay ing s', 'de s p it e', 'his', 't e st i m on y', 'that', 'it', 'was', 'a', 'm y st er i ou s', 'b l on de', 'w o man ,', 'f lo at ing', 'in', 'a', '\" b all', 'of', 'b l u e', 'f i re , \"', 'w ho', 'ha d', 'b l a st ed', 'the', 'v ic ti m s', 'wi th', 'a', '\" r ay', 'g un \"', 'on', 'that', 'O c to b er', 'a f ter no on .', 'I g n or ing', 'the', '\" g ir l', 'f ro m', 'M ar s \"', 'an g le ,', 'a li en i st s', 'for', 'the', 'p ro se c ut i on', 'p r on ou n c ed', 'the', 'h and so me', 'de f en d ant', 's an e ,', 'and', 'his', 'at t or ne y s', 'we re', 'p ow er le s s', 'to', 'of f se t', 'the', 'd a ma g e .', 'The', 'f in al', 'b l ow', 'to', \"Cordell 's\", 'ho p es', 'for', 'ac q u it t al ,', 'h ow e ver ,', 'was', 'ad m in i st e re d', 'b y', 'the', \"S t at e 's\", 'ke y', 'w it n es s ,', 'A l ma', 'D a k in ,', \"G i l mo re 's\", 'for m er', 'se c re t ar y .', 'F or', 'mo re', 'th an', 'th re e', 'h ou r s', 's he', 'un d er w ent', 'one', 'of', 'the', 'mo st', 'c al', 'c ou r t ro o m', ',', '.', 'Kirk', 's ho v ed', \"the '\", 'p a p er', 'as i de .', '\" W hat', 'c ould', 'he', 'e x p e c t', 'w he n', 'he', \"w ould n 't\", 'e v en', 'li st en', 'to', 'his', 'ow n', 'l a w y er s ?', \"The y ' ll\", 'a p p e al', '--', 'the y', 'ha ve', 'ut', \"it ' ll\", 'he', 'a', 'w a st p', 'of', 'ti me .\"', '#', 'le an ed', 'b ac k', 'in', 'the', 'c re a k ing', 'd', 'c ha ir', 'and', 'be g an', 'to', 'un w r a p', 'a m', 'a', 'c i g ar .', '\" I n', 'a', 'le', 'said', 'th ou ght f u ll y ,', '\" I', 'u p', 'in the', 'f i re le s s', 'you', 'g et', 'so', 'g n i z e', 'an', 'ac t', 'w he n', 'you', 's we ar', 'Cordell', 'b l on de', 'and', 'he', 'th ou ght', 'he', 'was', 'n ut s', 'the n', 'W hat', 'do', 'the m', 'I', 'ne ver', 'se en', 'one', 'his', 'ow n', 'f ing er s .\"', 'The', 't e le p h one', 'on', 'de s k', 'r an g', 'w hi le', 'he', 'was', 'li gh', 'c i g ar .', 'P ie', 'to s s ed', 'the', 'm at c h', 'f lo or', 'to', 'j o in', 'a .', 'do z en', 'p ic k ed', 'u p', 'the', 're ce i ver .', '\"', 'L ie ut en ant', 'Kirk', 's p e a k in', 'I t', 'was', 'the', 'p at ro l man', 'out er', 'of f ic e .', '\" W o man', 'out', 'he re', 'w ant s', 'to', 'se e', 'you , .', 'L ie ut en ant .', 'A s k ed', 'for', 'you', 'p er s on all y .', '\" W hat', 'ab out ?\"', '\" S he', \"w on 't\", 's ay .', 'A ll', 'I', 'g et', 'is', \"it 's\", 'i m p or t ant', 'and', 's he', 't al k s', 'to', 'you', 'or', 'no b o d y .\"', '\" W hat \\'s', 'her', 'n a me ?\"', '\" N o ,', 's ir .', 'N o t', 'e v en', 'that . . .', 'W ant', 'me', 'to', 'g et', 'r id', 'of', 'her ?\"', 'Kirk', 'e y ed', 'the', 'm ou nd', 'of', 'p a p er', 'w or k', 'on', 'his', 'de s k', 'and', 'si g he d .', '\" P ro b ab ly', 'a', 't a x p ay er .', 'A ll', 'ri ght ;', 's en d', 'her', 'b ac k', 'he re .\"', 'A', 'mo m ent', 'l at er', 'the', 'p at ro l man', 'lo o m ed', 'u p', 'out si de', 'the', 'c u b b y ho le', 'do or ,', 'the', 'w o man', 'in', 'to w .', 'L ie ut en ant', 'Kirk', 're ma in ed', 'se at ed ,', 'no d d ed', 'b r is k ly', 'to w ar d', 'the', 'e m p t y', 'c ha ir', 'al on g si de', 'his', 'de s k .', '\" P le as e', 's it', 'd ow n ,', 'ma d a m .', 'Y ou', 'w ant ed', 'to', 'se e', 'me ?\"', '\" Y ou', 'a re', 'M r .', 'Kirk ?\"', 'A', 'w ar m', 'v o ic e ,', 'al mo st', 'on', 'the', 'h u s k y', 'si de ,', '\" L ie ut en ant', 'Kirk .\"', '\" O f', 'c ou r se .', 'I', 'a m', 's or r y .\"', '.', 'f u l', 'ab out', 'Kirk', 'st a re d', 'was', 'w or th', 'for', 'a', 'v o l u p t u ou s', 'b y', 'e x ac t ly', 'the', 'ri ght', 'm ar g in .', 'H er', 'f ac e', 'was', 'mo re', 'lo ve ly', 'th an', 'be a ut i f u l ,', 'c hi e f ly', 'be c a u se', 'of', 'l ar g e', 'e y es', 'so', 'b l u e', 'the y', 'we re', 'al mo st', 'p ur p le .', 'H er', 's k in', 'was', 'f l a w le s s ,', 'her', 'b l on de', 'ha ir', 'w or n', 'in', 'a', 'm ed i u m', 'b o b', 'f l u f f ed', 'out ,', 'and', 'her s mo o th', 'f it t ing', 'to b ac co', 'b r ow n', 's u it', 'm u st', 'ha ve', 'be en', 'b ou ght', 'b y', 'a p p o in t m ent .', 'S he', 'lo o k ed', 'to', 'he', 'in', 'her', 'm id - t w ent i es', 'and', 'was', 'p ro b ab ly', 'th ir t y .', 'H er', 'e x p re s si on', 'was', 'so le m n', 'and', 'her', 's m i le', 'f le et ing , ,', 'as', 'was', 'be co m ing', 'to', 'an y one', 'c all ing', 'on', 'a', 'H o m ic i de', 'B u re a u .', 'S he', 'p l ac ed', 'on', 'a', 'c or n er', 'of', \"Kirk 's\", 'de s k', 'an', 'all i g at or', 'b a g', 'that', 'm at c he d', 'her', 's ho es', 'and', 't u c k ed', 'p le', 'y e ll ow', 'g lo ve s', 'the', 'co l or', 'of', 'her', 'b l ou se', 'un d er', 'the', \"b a g 's\", 'st r a p .', 'H er', 's li m', 'f ing er s ,', 'r ing le s s ,', 'mo v ed', 'co m p et ent ly', 'and', 'wi th out', 'ha st e .', 'a', 'I', 'a m', 'N a i a', 'N or th ,', 'L ie ut en ant', 'Kirk .\"', '\" W hat \\'s', 'on', 'you r', 'm in d ,', 'M is s', 'N or th ?\"', 'S he', 're g ar d ed', 'hi m', 'g r a ve ly ,', 'se e ing', 'g r ay - b l u e', 'e y es', 'that', 'ne ver', 'q u it e', 'lo st', 'the ir', 'c hi ll ,', 'a', 'th in', 'no se', 'b ent', 's li ght ly', 'to', 'the', 'le f t', 'f ro m', 'an', 'en c ou n ter', 'wi th', 'a', 'd r un k en', 'l on g s ho re man', 'y e ar s', 'be f o re ,', 'the', 'le an', 'l in es', 'of', 'a', 'so li d', 'j a w ,', 'the', 'd ar k', 'ha ir', 'that', 'was', 'be g in n ing', 'to', 'th in', 'out', 'ab o ve', 'the', 't e m p le s', 'a f ter', 'th ir t y - f i ve', 'y e ar s .', 'E v en', 'th o se', 'w ho', 'lo ve', 'hi m ,', 's he', 'th ou ght ,', 'm u st', 'fe ar', 'th is', 'man', 'a', 'l it t le .', 'M ar t in', 'Kirk', 'fe l t', 'his', 'c he e k s', 'f l u s h', 'un d er', 'the', 'f r an k', 'a p p r a is al', 'of', 'th o se', 'p ur p le', 'e y es .', '\" Y ou', 'as k ed', 'for', 'me', 'b y', 'n a me ,', 'M is s', 'N or th .', 'W h y ?\"', '\" A re n \\'t', 'you', 'the', 'of f ic er', 'w ho', 'ar re st ed', 'the', 'you n g', 'man', 'w ho', 'to d ay', 'was', 's ent en c ed', 'to', 'd ie ?\"', 'O n ly', 'y e ar s', 'of', 'p r ac t is e', 'at', 'le t t ing', 'no th ing', 'o p en ly', 's ur p r is e', 'hi m', 'ke p t', \"Kirk 's\", 'j a w', 'f ro m', 'd ro p p ing . . . Y ou', 'me an', 'Cordell ?\"', '\" Y es .\"', '\" I \\' m', 'the', 'one .', 'W hat', 'ab out', 'it ?', \"W hat ' ve\", 'you', 'go t', 'to', 'do', 'wi th', 'P a u l', 'Cordell ?\" . . .', 'N a i a', 'N or th', 'said', 'q u i et ly ,', '\" A', 'g re at', 'de al ,', \"I ' m\", 'a f r a id .', 'Y ou', 'se e ,', \"I ' m\", 'the', 'w o man', 'w ho', \"do es n 't\", 'e x i st ;', 'the', 'one', 'the', 'ne w s p a p er s', 'c all', \"' the\", 'g ir l', 'f ro m', 'M ar s . \\' \"', 'I t', 'was', 'w hat', 'he', 'ha d', 'e x p e c t ed', 'f r on u her', 'f ir st', 'q u e st i on', 'ab out', 'the', 'c as e .', 'A n y', 'm ur d er', 'h it t ing', 'the', 'he ad l in es', 'b r ou ght', 'at', 'le a st', 'one', 'p s y c ho', 'out', 'of', 'the', 'w o o d w or k ,', 'd ri v en', 'b y', 'so me', 'de e p - se at ed', 's en se', 'of', 'g u i l t', 'in to', 'ma k ing', 'a', 'p h on y', 'c on f es si on .', 'T ho se', 'w ho', 'we re', 'h ar m le s s', 'we re', 'e as ed', 'as i de ;', 'the', 'v i o l ent', 'go t', 'de t a in ed', 'for', 'o b s er v at i on .', 'B ut', 'N a i a', 'N or th', 's h ow ed', 'n one', 'of', 'the', 'si g n s', 'of', 'the', 't wi st ed', 'm in d .', 'S he', 'was', 'co he re n t ,', 'at t r ac ti ve', 'and', 'o b v i ou s ly', 'the re', 'was', 'm one y', 'so me w he re', 'in', 'her', 'v ic in it y .', 'W hi le', 'the', 'l a st', 't w o', 'it e m s', 'c ould', 'ha ve', 'be en', 't r u e', 'of', 'a', 'r a v ing', 'man i ac ,', 'Kirk', 'was', 'h u man', 'en ou gh', 'to', 'be', 's w ay ed', 'b y', 'the m .', '\" I \\' m', 'a f r a id , \"', 'he', 'said ,', '\" you \\' ve', 'co me', 'to', 'the', 'w r on g', 'man', 'ab out', 'th is ,', 'M is s', 'N or th .\"', 'H is', 's m i le', 'was', 'f r an k', 'and', 'w in n ing', 'en ou gh', 'to', 'st ar t le', 'her .', '\" The', 'c as e', 'is', 'out', 'of', 'm y', 'h and s ;', 'h as', 'be en', 's in ce', 'the', 'D i st r ic t', \"A t t or ne y 's\", 'of f ic e', 'to o k', 'o ver .', 'W h y', \"d on 't\", 'you', 't a ke', 'it', 'u p', 'wi th', 'the m ?\"', 'H', 'er', 's h or t', 'l a u gh', 'was', 'o p en ly', 'c y n ic al .', '\" I', 't ri ed', 'to ,', 'the', 'd ay', 'the', 't ri al', 'en d ed .', 'I', 'go t', 'as', 'f ar', 'as', 'a', 'f ou r th', 'as si st ant ,', 'w ho', 'to ld', 'me', 'the', 'c as e', 'was', 'c lo s ed ,', 'that', 'ne w', 'and', 'c on c l u si ve', 'e v id en ce', 'w ould', 'be', 'ne c es I', 'e x o l f', 'd at e ,', 'i ve', 'hi m', 'ne w', '\" W e', 'me t', 'se ver', 'a !', 'fe ll', 'in', 'lo ve ,', 'I', '# . . .', 'and', 'a f ter', 'ti re d', 'of', 'p l ay', 'in', 'w ant ed', 'hi m', 'his', 'se c re t ar y', 'p ro ma v o id ed', 'me .\"', 'w ant ed', 'me', 'to', 'w r it e', 'a', 'le t ter .', 'S o', 'Y .', 'T', 'w a it ing', 'for', 'an', 'an s w er .\"', 's', 't a ke', 'ti me .', 'M is s', 'I', 'we re', 'v ou', 'P d', '--', '\"', 'r', 'e v en', 't ri ed', 'to', 'se e', 'J u d g e', 'R e ed ,', 'f ar', 'as', 'his', 'b a i li f f .', 'I f', 'P d', 'st at e', 'm y', 'b u s in es s', 'in', 'w r it ing . . .', 'I', 'd id ;', \"that 's\", 'the', 'l a st', 'P ve', 'he ar d', 'f ro m', 'J u d g e', 'R e ed', 'or', 'b a i li f f .', '#', 'Kirk', 'p ic k ed', 'u p', 'his', 'c i g ar', 'f ro m', 'the', 'ed g e', 'of', 'the', 'de s k', 'and', 't a p p ed', 'the', 'as h', 'on to', 'the', 'f lo or .', '\" S ha ll', 'I , \"', 'he', 'said ,', 'his', 'li p s', 'q u irk ing ,', '\" as k', 'you', 'to', 'w r it e', 'me', 'a', 'le t ter ?\"', 'N a i a', 'N or th', 'f a i l ed', 'to', 're s p on d', 'to', 'the', 'li ght', 't ou c h .', '\" P m', 'th r ou gh', 'f i ll ing', 'w a st e b as k et s , \"', 's he', 'said', 'f l at ly .', '\" E i the r', 'you', 'do', 'so me th ing', 'ab out', 'th is', 'or', 'the', 'ne w s p a p er s', 'g et', 'the', 'ent i re', 'st or y .', 'N o t', 'that', \"I ' ll\", 'en j o y', 'be ing', 'a', 'p u b li c', 's p e c t ac le ,', 'b ut', 'at', 'le a st', \"the y ' ll\", 'g i ve', 'me', 'so me', 'ac ti on .\"', '\" W hat', 'do', 'you', 'w ant', 'd one ?\"', 'S he', 'p ut', 'b o th', 'e l b ow s', 'on', 'the', 'de s k', 'and', 'b ent', 'to w ar d', 'hi m .', 'H e', 'c a u ght', 'the', 'f a in t', 'o d or', 'of', 'b a th', 's al t s', 'f ro m', 'un d er', 'the', 'r ou nd ed', 's', 'of', 'her', 'b l ou se .', '\" T hat', 'man', 'ie ut en ant .', 'H e', \"d id n 't\", 'or', 'G re g or y', 'G i l mo re .\"', 'I', '\" S o', 'you', 'de c i de', 'S he', 'se e m ed', 'g en u in e !', 'at', 'the', 're m ar k .', '\" C', 'w he n', 'I', 'sa w', 'hi m', 't a ke', 'th is', 'as si st ant', 'of', 'his ,', 'or', 's he', 'was', '--', 'in to', 'his', 'ar m s', '.', 'p o se', 'I', \"' w ent\", 'a', 'l it t le', 'c r a z y , \"', '\" N ow , \"', 'Kirk', 'said ,', '\" we \\' re', 'd ow n', 'to', 'c as es .', 'Y ou', 'k n ow', 'the', 'e v id en ce', 'g i v en', 'at', 'the', 't ri al', '--', 'p ar t ic u l ar ly', 'that', 'g i v en', 'b y', \"G i l mo re 's\", 'se c re t ar y', '?\"', '\" O f', 'c ou r se .\"', '\" The n', '. you', 'k n ow', 'th is', 'D a k in', 'w o man', 'was', 'in', 'the', 'l ab or at or y', 'un ti l', 'a', 'fe w', 'm in ut es', 'be f o re', 'Cordell', 's h ow ed', 'u p .', 'Y ou', 'k n ow', 'that', 'no b o d y', 'c ould', 'ha ve', 'g one', 'in to', 'that', 'l ab or at or y', 'wi th out', 'her', 'se e ing', 'the m .', 'Y ou', 'k n ow', 'that', 'A l ma', 'D a k in', 't e st i f i ed', 'that', 'the re', 'we re', 'on ly', 't w o', 'p e o p le', 'in', 'the re :', 'G i l mo re', 'and', 'J u an it a', 'Cordell .', 'S o ,', 'M is s', 'N or th ,', 'h ow', 'd id', 'you', 'g et', 'in', 'the re', 'a f ter', 'A l ma', 'D a k in', 'and', 'be f o re', 'P a u l', 'Cordell', 'ar ri v ed ?\"', '\" B ut', 'I', 'd id n \\'t .\"', 'The', \"L ie ut en ant 's\", 'a ir', 'sa g g ed', 'un d er', \"' D #\", 'a', '#', 'W hat', 'do', 'you', 'me an', '\" I', \"d id n 't\", 'ent er', '\" #', 'a f ter', \"G re g 's\", 'se c re t ar y', 'I', 't', 'in to', 'his', 'e y es .', 'the re', 'all', 'al on g', '.', 'a', 't r a i ght en ed', 'and', 'her', 'g a z e', \"ha v en 't\", 't un e le s s ly .', '\" Y ou', '\" I', 'was', 'g ir l', 're p e at ed', 'e x ac t .', 'I', 'p #', 'e ver y b o d y', 'w ould', 'be', 'out', 'to', 'l un c h', 'be t we en', 't we l ve', 'and', 'one ,', 'so', 'I', 'w ent', 'to', 'the', 'l ab or at or y', 'wi th', 'the', 'in t ent i on', 'of', 'f ac ing', 'G re g', 'the re', 'on', 'his', 're t ur n .', 'W he n', 'I', 'he ar d', 'hi m', 'and', 'M r s .', 'Cordell', 'co m ing', 'al on g', 'the', 'c or r id or ,', 'I', 's or t', 'of', 'lo st', 'm y', 'n er ve', 'and', 'h id', 'in', 'a', 'co at', 'c lo se t .\"', 'M ar t in', 'Kirk', 'ha d', 'co m p le t e ly', 'd ro p p ed', 'b is', 'a ir', 'of', 'go o d - h u mo re d', 'p at i en ce', 'b y', 'th is', 'ti me .', '\" Y ou', 't e ll ing', 'me', 'you', 'we re', 'h id ing', 'in', 'the re', 'for', 'al mo st', 'f i ve', 'h ou r s', 'wi th out', 'the m', 'k n ow ing', 'it ?\"', 'N a i a', 'N or th', 's h r u g g ed', 'her', 's h ould er s .', '\" The y', 'ha d', 'no', 're as on', 'to', 'lo o k', 'in', 'the', 'c lo se t .', \"I ' ll\", 'ad m it', 'I', \"ha d n 't\", 'in t en d ed', 'to', '--', 'to', 's p y', 'on', 'G re g .', 'B ut', 'I', 'ke p t', 'w a it ing', 'for', 'hi m', 'to', 's ay', 'or', 'do', 'so me th ing', 'that', 'w ould', 'p ro ve', 'or', 'd is p ro ve', 'he', 'was', 'in', 'lo ve', 'wi th', 'J u an it a', 'Cordell ,', 'and', 'no t', 'un ti l', 'his', 'se c re t ar y', 'le f t', 'and', 'he', 'was', 'al one', 'wi th', 'her', 'd id', 'I', 'd is co ver', 'w hat', 'was', 'be t we en', 'the m .', 'I', 'm u st', 'ha ve', 'co me', 'out', 'of', 'that', 'd ar k', 'ho le', 'li ke', 'a', 'ti g er .', 'L ie ut en ant .', 'The y', 'j u m p ed', 'a p ar t', 'and', 'v', 't w o', 'p e o p le', 'ne ver', 'lo o k ed', 'g u i l ti er .', 'H e', 'said', 'so me th ing', 'p ar t ic u l ar ly', 'n a st y', 'to', 'me', 'and', 'I', 'g r ab b ed', 'u p', 'a', 's h or t', 'l en g th', 'of', 's h in y', 'me t al', 'f ro m', 'the', 'w or k b en c h', 'and', 'h it', 'hi m', 'ac ro s s', 'the', 'si de', 'of', 'the', 'he ad', 'be f o re', 'li e', 'k ne w', 'w hat', 'was', 'ha p p en ing .', 'H e', 'fe ll', 'd ow n', 'and', 'the', 'Cordell', 'w o man', 'o p en ed', 'her', 'm ou th', 'to', 's c re a m', 'and', '--', 'and', 'I', 'h it', 'her', 'to o .\"', 'S he', 'p a u s ed', 'as', 'th ou gh', 'to', 'p er m it', 'Kirk', 'to', 'co m m ent .', '\" G o', 'on .\"', 'he', 'said', 'ho ar se ly .', '\" The re \\'s', 'no t', 'm u c h', 'le f t', '\"', 'the', 'g ir l', 'said .', '\" I', 'was', 'st and ing', 'the re', 'st i ll', 'ho ld ing', 'that', 'p ie ce', 'of', 'me t al', 'w he n', 'the', 'do or', 'c r as he d', 'o p en', 'and', 'the', 'de ad', \"w o man 's\", 'h u s b and', 'r an', 'in .', 'H e', 'st ar t ed', 'to', 'l un g e', 'ac ro s s', 'the .', 'ro o m', 'at', 'me', 'and', 'I', 'th re w', 'the', 'th ing', 'I', 'was', 'ho ld ing', 'at', 'hi i m', 'I t', 'st r u c k', 'hi m', 'and', 'he', 'fe ll', 'd ow n .', 'M y', 'on ly', 'th ou ght', 'was', 'to', 'hi de ,', 'for', 'I', 're a li z ed', 'I', \"c ould n 't\", 'go', 'out', 'th r ou gh', 'the', 'out er', 'of f ic e ,', 'and', 'the', 'on ly', 'w in d ow', 'was', 'b ar re d .', 'S o', 'I', 'h id', 'in', 'that', 'c lo se t', 'a g a in .', '\" I t', 'was', 'on ly a', 'fe w', 'm in ut es', 'be f o re', 'P a u l', 'Cordell', 're g a in ed', 'c on s c i ou s n es s .', 'H e', 'st a g g e re d', 'out', 'of', 'the', 'ro o m', 'and', 'd ow n', 'the', 'ha ll', 'and', 'I', 'c ould', 'he ar', 'a', 'lo t', 'of', 'e x c it ed', 't al k', 'and', \"G re g 's\", 'se c re t ar y', 'c all ing', 'the', 'p o li ce .', 'The n', 'I', \"d id n 't\", 'he ar', 'an y th ing', 'at', 'all', 'for', 'a', 'mo m ent ,', 'so', 'I', 'c a me', 'out', 'of', 'the', 'c lo se t', 'and', 'lo o k ed', 'd ow n', 'the', 'ha ll .', 'The', 'of f ic e', 'do or', 'was', 'c lo s ed ,', 'b ut', 'it', 'se e m ed', 'so', 'q u i et', 'in', 'the re', 'that', 'I', 'ti p to ed', 'q u ic k ly', 'to', 'the', 'in n er', 'do or ,', 'o p en ed', 'it', 'a', 'c r ac k', 'and', 'p e e re d', 'th r ou gh .', 'The', 'of f ic e', 'was', 'de s er t ed ;', 'e v id ent ly', 'Cordell', 'and', 'M is s', 'D a k in', 'ha d', 'g one', 'out', 'to', 'd i re c t', 'the', 'p o li ce', 'w he n', 'the y', 's h ow ed', 'u p .', '\" W he n', 'I', 'sa w', 'the re', 'was', 'no', 'one', 'in', 'the', 'ma in', 'ha ll', 'of', 'the', 'b u i ld ing', 'it se l f ,', 'I', 'si m p ly', 'w al k ed', 'out', 'and', 'le f t', 'b y', 'an o the r', 'e x it .', 'N o', 'one', 'I', 'p as s ed', 'e v en', 'no t ic ed', 'me .\"', 'F', 'or', 'a', 'l on g', 'ti me', 'a f ter', 'N a i a', 'N or th', 'ha d', 'f in is he d', 's p e a k ing ,', 'M ar t in', 'Kirk', 's at', 'as', 'th ou gh', 'c ar v ed', 'f ro m', 'st one ,', 'st ar ing', 'b l in d ly', 'in to', 's p ac e .', 'S he', 'k ne w', 'he', 'was', 'th in k ing', 'f u ri ou s ly ,', 'we i gh ing', 'the', 'p l a u si b i l it y', 'of', 'w hat', 'he', 'ha d', 'he ar d ,', 't r y ing', 'to', 'ar ri ve', 'at', 'so me', 'me th o d', 'of', 'c or ro b or at ing', 'it', 'in', 'a', 'w ay', 'that', 'w ould', 'st and', 'u p', 'in', 'a', 'c ou r t', 'of', 'l a w .', '\" M is s', 'N or th .\"', 'S he', 'c a me', 'out', 'of', 'a', 're ver ie', 'wi th', 'a', 'st ar t ,', 'to', 'f in d', 'the', \"L ie ut en ant 's\", 'e y es', 'b or ing', 'I n to', 'her s .', '\" T his', 's h in y', 'h un k', 'of', 'me t al', 'you', 'u s ed', ':', 'w he re', 'is', 'it', 'n ow ?\" ,', '\" F r a', 's u re', 'I', \"w ould n 't\", 'k n ow .', 'P ro b ab ly', 'so me', 'p l ac e', 'in', 'the', 'l ab or at or y ,', 'un le s s', 'so me b o d y', 'to o k', 'it', 'a w ay .', 'I', 'do', 'se e m', 'to', 're me m b er', 'p ic k ing', 'it', 'u p', 'and', 'to s s ing', 'it', 'b ac k', 'wi th', 'se ver al', 'o the r s', 'li ke', 'it', 'on', 'the', 'b en c h .\"', '\" The n', \"it 's\", 'st i ll', 'the re , \"', 'he', 'said', 's l ow ly .', '\" J u d g e', 'R e ed', 'or de re d', 'the', 'ro o m', 'se al ed', 'u p', 'un ti l', 'a f ter', 'the', 't ri al .', 'A nd', 'the n', \"the re 's\", 'the', 'c lo se t . . .', ',', '.', 'W e re', 'you', 'we ar ing', 'g lo ve s', 'that', 'a f ter no on ,', 'M is s', 'N or th ?\"', 'S he', 'said ,', '\" N o .', \"Y ou ' re\", 'th in k ing', 'of', 'f ing er p r in t s ?\"', '\" I f', \"you ' re\", 't e ll ing', 'the', 't r u th , \"', 'he', 'said ,', '\" the re \\'s', 'al mo st', 'c er t a in', 'to', 'be', 'so me', 'of', 'you r', 'p r in t s', 'on', 'the', 'in si de', 'of', 'that', 'c lo se t', 'do or', '--', 'm ay be', 'e v en', 'on', 'that', 'l en g th', 'of', 'me t al ,', 'i f', 'we', 'c an', 'f in d', 'it .\"', 'S he', 'said', 'al mo st', 'c a re le s s ly :', '\" T hat \\'s', 'all', \"you ' d\", 'ne ed', 'to', 'c le ar', 'P a u l', 'Cordell ,', \"is n 't\", 'it ?\"', '\" I t', 'w ould', 'c er t a in ly', 'he l p .\"', 'H e', 's w un g', 'ar ou nd', 'in', 'the', 'c ha ir ,', 's co o p ed', 'u p', 'the', 't e le p h one', 'and', 'g a ve', 'a', 's er i es', 'of', 'r a p id - f i re', 'or d er s ,', 'the n', 'd ro p p ed', 'the', 'in st r u m ent', 'on', 'it s', 'c r ad le', 'and', 't ur n ed', 'b ac k', 'to', 'w he re', 's he', 's at', 'w at c h ing', 'hi m', 'c u ri ou s ly .', 'H e', 'said ,', '\" A', 'fe w', 'th ing s', 'I', 'st i ll', \"d on 't\", 'g et .', 'L i ke', 'th is', 'b u s in es s', 'of', 'you r', 'st and ing', 't w o', 'fe et', 'of f', 'the', 'f lo or', 'in', 'a', 'b all', 'of', 'b l u e', 'li ght .', 'A nd', 'the', 'f l as he s', 'of', 'li ght', 'j u st', 'be f o re', 'Cordell', 'he ar d', 'his', 'wi fe', 'and', 'G i l mo re', 'f all', 'to', 'the', 'f lo or .', 'E v en', 'the', 's n at c he s', 'of', 'c on ver s at i on', 'he', 'c a u ght', 'w hi le', 'st i ll', 'in', 'the', 'ha ll .', 'H e', \"c ould n 't\", 'ha ve', 'd re a m ed', 'all', 'that', 'st u f f', 'u p', '--', 'at', 'le a st', 'no t', 'wi th out', 'so me', 'b as is .\"', 'S he', 'ha d', 'o p en ed', 'her', 'b a g', 'and', 't a k en', 'out', 'a', 'c i g a re t t e .', 'Kirk', 'i g n it ed', 'one', 'of', 'his', 'k it c he n', 'm at c he s', 'and', 's he', 'i', 'b ent', 'her', 'he ad', 'for', 'a', 'li ght .', 'H e', 'c ould', 'se e', 'the', 'f l a w le s s', 'c ur ve', 'of', 'one', 'c he e k', 'and', 'the', 's mo o th', 'c a p', 'of', 'b l on de', 'ha ir ,', 'and', 'he', 're si st ed', 'the', 'ur g e', 'to', 'p as s', 'a', 'h and', 'li ght ly', 'ac ro s s', 'b o th .', 'S o me th ing', 'was', 'st ir r ing', 'in si de', 'the', 'L ie ut en ant', '--', 'so me th ing', 'that', 'ha d', 'l on g', 'be en', 'ab s ent .', 'A nd ,', 'he', 're f le c t ed', 'w r y ly ,', 'all', 'be c a u se', 'of', 'a', 'g ir l', 'w ho', 'ha d', 'j u st', 'f in is he d', 'c on f es s ing', 'to', 't w o', 'p ar t ic u l ar ly', 'un p le as ant', 'm ur d er s .', 'N a i a', 'N or th', 'r a is ed', 'her', 'he ad', 'and', 'the ir', 'e y es', 'me t', '--', 'me t', 'and', 'he ld .', 'H er', 'li p s', 'p ar t ed', \"s li ght ly '\", 'as', 's he', 'c a u ght', 'the', 'un m i st a k ab le', 'me s sa g e', 'in', 'th o se', 'g r ay - b l u e', 'de p th s . . .', 'The', 'mo m ent', 'p as s ed ,', 'the', 's p e ll', 'was', 'b ro k en', 'and', 's he', 'le an ed', 'b ac k', 'in', 'the', 'c ha ir', 'and', 'l a u g he d', 'a', 'l it t le', 's ha k i ly .', '\" I', 're ad', 'ab out', 'th o se', 'st at e m ent s', 'of', 'his', 'in', 'the', 'p a p er s ,', 'L ie ut en ant .', 'I', 'th in k', 'p er ha p s', 'I', 'c an', 'at', 'le a st', 'p ar ti all y', 'e x p l a in', 'the m .', 'A s', 'I', 're me m b er', 'it ,', 'the re', 'we re', 'se ver al', 'B un s en', 'b ur n er s', 'li ght ed', 'on', 'the', 'l ab or at or y', 'b en c h', 'ne ar', 'that', \"w in d ow ' .\", 'The y', 'g i ve', 'of f', 'a', 'b l u e', 'f l a me ,', 'you', 'k n ow ,', 'and', 'I', 'm u st', 'ha ve', 'be en', 'st and ing', 'ne ar', 'the m', 'w he n', 'P a u l', 'Cordell', 'c a me', 'c h ar g ing', 'in .', 'I n', 'his', 'c on f u s ed', 'f r a me', 'of', 'm in d ,', 'he', 'm ay', 'ha ve', 'p ic t u re d', 'me', 'as', 'be ing', 'in', 'a', 'b all', 'of', 'f l a me .\"', '\" S ou nd s', 'p o s si b le , \"', 'the', 'man', 'ad m it t ed ,', 'f r ow n ing .', '\" W hat', 'ab out', 'th o se', 'f l as he s', 'of', 'li ght ?\"', '\" Y ou \\' ve', 'go t', 'me', 'the re .', 'U n le s s', 'the y', 'we re', 're f le c ti on s', 'of', 's un li ght', 'th r ou gh', 'the', 'w in d ow', '--', 'f ro m', 'the', 'w in d s hi e ld', 'of', 'a', 'p as s ing', 'c ar ,', 'p er ha p s .\"', '\" A nd', 'the', 'th ing s', 'he', 'he ar d', 'you', 'and', 'G i l mo re', 's ay ing ?\"', 'S he', 's ho o k', 'her', 'he ad', 're g re t f u ll y .', 'd ar k ,', 'I', 'S he', 'w ent', 'w it .', 'in', 'c r u is er s', 'a', 'h and', 's l ow ly', 'of', 'his', 'ne c k ,', \"' H e\", 'c ould', 'ha ve', 'c on of', 'me t al', 'in', 'you r', 'h and', 'as', 'a', 'g un , . . .', 'W e ll', '--', 'his', 's h ould er s', 'li f t ed', 'in', 'the', 'gh o st', 'of', 'a', 's h r u g', '--', '\" it', 'all', 'se e m s', 'to', 'ad d', 'u p .', 'E x ce p t', 'one', 'th ing', ':', 'Cordell', 'ha d', 'be en', 't ri ed', 'and', 'c on v ic t ed ,', 'le a v ing', 'you', 'in', 'the', 'de ar .', 'W h y', 'co me', 'd ow n', 'he re', 'v o l un t ar i ly', 'and', 'st ic k', 'you r', 'lo ve ly', 'he ad', 'in', 'a', 'no o se ?\"', 'The', 'g ir l', 's m i l ed', 'f a in t ly .', '\"', \"' L o ve ly\", 'he ad ,', 'L ie ut en ant ?\"', 'Kirk', 'f l u s he d', 'to', 'the', 'e y e b r ow s .', '\" T hat', 's li p p ed', 'out . . .', 'W h y', 'the', 'c on f es si on ?\"', 'S he', 'said', 'so b er ly :', '\" I', 'was', 'so', 's u re', \"the y ' d\", 'le t', 'hi m', 'of f .', 'W he n', 'you', 'k n ow', \"so me one 's\", 'in no c ent', 'you', \"c an 't\", 're a li z e', 'that', 'o the r s', \"w on 't\", 'k n ow', 'it', 'to o ,', 'I', 'B ut', 'w he n', 'I', 'le ar n ed', \"he ' d\", 'be en', 'f ou nd', 'g u i l t y', 'and', 'ac t u all y', 'c on de m n ed', 'to', 'd ie . . .', 'we ll ,', 'I', 'k n ow', 'it', 's ou nd s', 'no b le', 'and', 'all', 'that', 'b ut', 'I', \"c ould n 't\", 'le t', 'hi m', 'go', 'to', 'his', 'de a th', 'for', 'd', 'd one .', 'S u re ly', 's u c h', 'a', 'be f o re', 'in', 'you r', 'ri en e e .', 'L ie ut en ant , \"', '. d i ed', 'as', 's he', 'd re w', 's mo ke', 'c i g a re t t e', 'de e p ly', 'in to', 'her', '.', 'le t', 'it', 'f l ow', 'out', 'in', 't w in', '.', 'O n ly', '#', 'id', 'in to', 'the', 'S her r y #', \"'\", 'th an', 'a', 'l it t le', 'c y n ic a', 'c on c er n ed', 'wi th', 'of', 'the m .', 'T hat', 'c ould', 'k i ll', '--', 'and', 's p ur', 'of', 'the', 'mo m ent', 'v o c at i on', 'was', 'st r on g', '\" W e ll ,', 'L ie ut en ant ?\"', 'li ght ly ,', 'al mo st', 'wi th', 'd is in t e re st .', 'The n', 'Kirk', 'was', 'all', 'ri ght', 'a g a in ,', 'and', 'he', 'was', 'lo o k ing', 'at', 'a', 'w o man', 'w ho', 'ha d', 'j u st', 'c on f es s ed', 'to', 'm ur d er .', 'Y ou', 'he ar d', 'the', 'p h one', 'c all', 'I', 'ma de', 'a', 'mo m ent', 'a go ,', 'M is s', 'N or th .', 'T w o', 'm en', 'f ro m', 'the', 'C ri me', 'L ab', 'a re', 'al re ad y', 'on', 'the ir', 'w ay', 'to', 'the', 'U n i ver s it y .', 'I f', 'the y', 'f in d', 'you r', 'f ing er p r in t s', 'in si de', 'that', 'c lo se t ,', 'i f', 'the y', 'c an .', 't ur n', 'u p', 'an y th ing', 'to', 'p ro ve', \"you ' ve\", 'be en', 'in', 'G re g or y', \"G i l mo re 's\", 'l ab or at or y ,', 'the n', 'you', 'and', 'that', 'e v id en ce', 'and', 'you r', 'c on f es si on', 'g et', 't ur n ed', 'o ver', 'to', 'the', 'D .', 'A .', 'and', 'P a u l', 'Cordell', 'wi ll', 'be', 'on', 'his', 'w ay', 'to', 'f re ed o m .\"', '\" A nd', 'i f', 'th o se', 'm en', \"d on 't\", 'an y th ing ?\"', '\" The n , \"', 'he', 'to ld', 'her', \"' you ' re\", 'j u st', 'an o the r', 'c r ac k p o t', \"I ' m\", 'to s s ing', 'you', 'and', 'c on f es si on', 'out', 'of', 'he re , \"', 'se ver al', 'p er fe c t', 'in n er', 'do or', 'of', 'the', 'B ut', 'e v en', \"J u S i Z . . . ' Z b A J i W m\", 'i v', 'A', '--', 'T T i', 'L T ;', 'k', '--', 'j a', \"'\", 'w', 'i A', 'v', '- V A', 'V r', \"V A '\", '# e', 'm ar', 'st and ing', 'a', 'go o d', 't w o', 'fe et', 'of f', 'the', 'f lo or', 'in', 'the', 'm id d le', 'of', 'a', 'g l ow ing', 'b u b b le', 'that', 'p u l s ed', 'ar id', 'w a ve re d', 'ar ou nd', 'her', '.', '--', 'at', 'the', 'o the r', 'a', 'm ic ro', 't ic', 't r ac e', 'of', 'h u man', 'b lo o d .', 'a', 'me s s', 'm is s ing ?', 'it', 't e c h n ic i an', 'to ld', 'a', 's w or n', 'we', 'a st', 'm on th .', 'o t', 'the', 'p r in t s', '--', 'the', 'on es', '.', 'H e y ,', 'h ow', 'ab out', 'that ,', 'L ie ut en ant ?', 'th is', '.', 'Cordell', 'g u y', 'S l ow ly', 'Kirk', 're p', 'and', 'e y ed', 'N a i a', 'de s k', 'f ro m', 'hi m ,', '\"', '\"', 'he', 'said', 'C i i', 'ri p i a', 'you', 'st r a i g', 'go ing', 'to', 'an y', 'p ar t', 'of', 'H er', 'b r ow', 'I', \"d on 't\", 'ic', 'm is c ar ri a g e', 'that', 'he s', 'a', 'm is to', 'g et', 'all', 'ti ie', 'p u b b ou nd', 'to ?', \"' D i st r ic t\", 'in no c ent', 'man !', 'of', 't or i al s', 'in', 'the', 'o p p o s it i on', 'p re s s', 'ab out', 'a', 'of f ic es', 'and', 'v o ter s', 'm u st', 'ke e p', 'out', 'an y b o d y', 'w ho', 'go es', 'ar ou nd', 'e x e c ut ing', 'the', 'in no c ent', 'and', 'he l p le s s .', 'L o o k s', 'li ke', 'A r th ur', 'K a h l er', 'T ro y', 'is', 'go ing', 'to', 'be', 'a', 'm i ght y', 'un p o p u l ar', 'man', 'ar ou nd', 'the se', 'p ar t s', '--', 'and', 'e le c ti on', 'le s s', 'th an', 'f i ve', 'm on th s', 'a w ay ! \"', 'H e', 'g l an c ed', 'u p', 'at', 'the', 'of f ic e', 'c lo c k .', 'I t', 'was', 'ne ar ly', 'n in e ,', \"o ' c lo c k\", 'in', 'the', 'e v en ing ,', 'and', \"' b o th\", 'of', 'the m', 'we re', 's h ow ing', 'si g n s', 'of', 'we ar .', 'Kirk', 'le f t', 'his', 'c ha ir', 'and', 'w ent', 'o ver', 'to', 'the', 'w at er', 'and', 't w o', 'c u p f u l s', 'b r ou ght', 'one', 'b ac k', 'to', 'the', 'g ir l .', 'S he', 'th an k ed', 'hi m', 'wi th', 'a', 'w an', 's m i le', 'and', 'd', 'd ow n', 'the', 'c on t ent s .', 'e m p t y', 'p a p er', 'c on it', 's l ow ly ,', 'et', 'ho ld', 'of', 'hi m ,', '#', '\" I t \\'s', 'go ing', 'to', 'be', 't y', 'd a m n ed', 'r ou gh ,', 'si st er .', 'Y ou', 'th r ou gh', 'wi th', 'e y e b r ow', 'at', 'hi m .', 'q u e st i on', 'for', 'a', \"is n 't\", 's p ar se ly', 'mo v ed', 's l ow ly', 'an', 'in', 'his', 'st e p ,', 'and', 't u re s', 'was', 'h ar s h', 'and', 'st r a in s', 's of t', 'li ght', 'f ro m', 'T ro y', 'ha d', 'be en', 'e v en', 'mo re', 'c u l t', 'th an', \"he ' d\", 'fe a re d ,', 'be g un', 'as', 'p l a in', 'ir r it ab i l it y', 'a', 'd i st ur b ed ,', 'ha d', 'st a g es', 'to', 'a m u s ed', 'd is be li e f ,', 'o p en', 'an g er', 'and', 'f in all y', 're l u c t ant', 'c on v ic ti on', 'that', 'P a u l', 'Cordell', 'was', 'in no c ent', 'of', 'the', 'c ri me s', 'for', 'w h ic h', 'he', 'ha d', 'be en', 's ent en c ed', 'to', 'd ie .', 'A', 'ma le', 'st en o g r a p her', 'f ro m', 'M s', 'st a f f', \"was '\", 'c all ed', 'in', 'and', 'N a i a', 'N or th', 'd ic t at ed', 'a', 'co m p le t e', 'st at e m ent', 'w h ic h', 's he', 'si g n ed .', 'T ro y', 'q u e st i on ed', 'her', 'for', 'ne ar ly', 't w o', 'h ou r s ,', 'g et t ing', 'in', 'e ver y', 'p o s si b le', 'an g le', 'of', 'her', 'p ri v at e', 'li fe', 'as', 'we ll', 'as', 'm in ut e', 'de t a i l s', 'of', 'her', 'ac ti on s', 'on', 'the', 'd ay', 'of', 'the', 'Kirk', 'ha d', 'no t', 'be en', 'p re s ent', 'd ur in', 'that', 'p ar t', 'of', 'the', 'n i ght ,', 'b ut', 'he', 'u re d', 'it', \"w ould n 't\", 'be', 'm u c h', 'f ro m', 'w hat', \"he ' d\", 'he ar d', 'man y', 'ti me ;', 'H e', 'm i x ed', 'hi m se l f', 'was', 's ur p r is ed', 'to', 'd is co ver', 'h and s', 'we re', 'I', 'W e ll ,', 'w h y', 'no t ?', 'A', \"he ' d\", 'j u st', 'be en', 'the', 's ha k es', 'in', 'as', 'he', 'ma de', 'the', \"was n 't\", 'the', 'st ay ed', 'be en', 'c as es', 't ri g g er s', '--', 'and', 'the', 's ha k es', 'ne ver', 'c a me .', 'N o ,', 'it', 'was', 'the', 'g ir l .', 'N a i a', 'N or th .', 'N a i a', '--', 'a', 'st r an g e', 'n a me .', 'B ut', 'no', 'st r an g er', 'th an', 'the', 'g ir l', 'her se l f .', 'N ow', 'h ow', 'ab out', 'that ?', 'W h y', 's h ould', 'he', 'th in k', 'her', 'st r an g e ?', 'B e c a u se', \"s he ' d\", 't a k en', 'a', 'li fe', 'or', 't w o ?', 'H e ll ,', 'lo t s', 'of', 'p e o p le', 'd id', 'that', 'and', 'no', 'one', 'c all ed', 'the m', 'st r an g e .', 'C ri m in al', 'or', 'un m or al', 'or', 'g re ed y', 'or', 'an g r y ,', 'y es .', 'B ut', 'no t', 'st r an g e .', 'S he', 'lo o k ed', 'li ke', 'o the r', 'w o m en', '--', 'on ly', 'a', 'lo t', 'be t ter .', 'S he', 'd re s s ed', 'li ke', 'the m ,', 'w al k ed', 'li ke', 'the m ,', 't al k ed', 'li ke', 'the m .', 'S o', 'w h y', 'st r an g e ?', 'B e c a u se', 's he', 'was', 'st r an g e .', 'N o th ing', 'you', 'c ould', 'p ut', 'you r', 'f ing er', 'on', 'ma de', 'her', 'that', 'w ay ,', 'b ut', \"that 's\", 'the', 'w ay', 's he', 'was .', 'H e', 'th re w', 'his', 'c i g ar', 'sa v a g e ly', 'in to', 'the', 'f i re p l ac e .', 'H e', 'w ent', 'o ver', 'and', 'ma de', 'an o the r', 'd r in k', 'and', 'p ou re d', 'it', 'd ow n', 'f a st', 'and', 'an o the r', 'one', 'a f ter', 'it ,', 'ri ght', 'on', 'it s', 'he e l s .', 'The n', 'he', 'w ent', 'to', 'b ed .', 'T o m or r ow', '--', 'to d ay ,', 'r a the r', '--', 'was', 'a', 'w or k', 'd ay', 'and', 'w or k', 'd ay s', 'we re', 't ou gh', 'd ay s', 'and', 'he', 'ne ed ed', 'his', 're st .', 'H e', \"d id n 't\", 'g et', 'm u c h', 'of', 'it ,', 'th ou gh .', 'The', 'p h one', 'w o ke', 'hi m', 'a', 'fe w', 'm in ut es', 'a f ter', 'se v en', \"o ' c lo c k .\", 'I t', 'was', 'A r th ur', 'K a h l er', 'T ro y', 'at', 'the', 'o the r', 'en d', 'and', 'the', 'I X', 'A .', 'was', 'to o', 'an g r y', 'to', 'be', 'co he re n t .', 'I t', 'se e m ed', 'N a i a', 'N or th', 'ha d', 'd is a p p e a re d', 'f ro m', 'her', 'lo c k ed', 'ce ll', 'd ur ing', 'the', 'n i ght .', 'f i f i T', \"d on 't\", 'g i ve', 'a', 't ri p le - d i st i ll ed', 'J ,', 'd a m n', 'w hat', 'you', 's ay ! \"', 'T ro y', 's n ar l ed .', '\" N o b o d y \\'s', 'go t', 'en ou gh', 'm one y', 'to', 'ma ke', 'that', 'k in d', 'of', 'p ay of f .', 'F i ve', 'm en , .', 'L ie ut en ant', '--', 'f i ve', 'm en', 'and', 'f i ve', 'lo c k ed', 'do or s', 's to o d', 'be t we en', 'that', 'g ir l', 'and', 'the', 'st re et .', 'A nd', 'you', 's it', 'the re', 'and', 't r y', 'to', 't e ll', 'me', 'so me b o d y b ou ght', 'all', 'f i ve', 'of', \"' e m\", 'of f ! \"', '\" The n , \"', 'Kirk', 'said', 'he at ed ly ,', '\" w hat \\'s', 'you r', 'e x p l an at i on ?\"', 'I t', 'ha d', 'be en', 'go ing', 'on', 'th is', 'w ay', 'for', 'o ver', 'an', 'h ou r .', 'The', 'm or n ing', 's un', 'c a me', 'in', 'we a k ly', 'at', 'the', 'w in d ow', 'be h in d', \"T ro y 's\", 'h u g e', 'p o l is he d', 'ma ho g an y', 'de s k ,', 'p ic k ing', 'u p', 'r and o m', 're f le c ti on s', 'f ro m', 'the', 'co ll e c ti on', 'of', 'e x p en si ve', 'g ad g et s', 'l it ter ing', 'the', 'g l as s', 'to p .', 'T ro y', 'be g an', 'to', 'we ar', 'an o the r', 'p a th', 'in', 'the', 'mo s s - co lo re d', 'b ro ad lo o m', 'c ar p et ing .', 'H e', 'was', 'b i g', 'and', 'b ro ad', 'and', 'g et t ing', 'p u f f y', 'ar ou nd', 'the', 'm id d le ,', 'li ke', 'a', 'one - ti me', 'ha l f b ac k', 'go ing', 'to', 'se ed .', 'H is', 'r ou nd ,', 'he a v y fe at u re d', 'f ac e', 'was', 'e v en', 'mo re', '. f l or id', 'th an', 'u s u al ,', 'and', 'his', 'he a v y', 'g r ow th', 'of', 're d d is h - b l on d', 'ha ir', 'ne ed ed', 'a', 'co m b .', 'M ar t in', 'Kirk', 'p u s he d', 'hi m se l f', 'de e p er', 'in to', 'the', 'de p th s', 'of', 'a', 'b r ow n', 'le a the r', 'c ha ir', 'and', 'w at c he d', 'the', 'D .', 'A .', 'th r ou gh', 'b ro o d ing', 'e y es .', 'H e', 'w ant ed', 'a', 'c i g ar', 'b ut', 'it', 'was', 'to o', 'e ar ly', 'in', 'the', 'm or n ing', 'for', 'that', 'k in d', 'of', 'in Y ou', 'ne ed ed', 'a', 'b re a k f a st', 'and', 'a', 'c ou p le', 'c u p s', 'of', 'c of fe e', 'be f o re', '--', '\" I', \"d on 't\", 'e x p l a in', 'it , \"', 'T ro y', 'said', 'in', 'q u i et er', 't on es .', 'H e', 'was', 'st and ing', 'b y', 'the', 'w in d ow', 'n ow ,', 'st ar ing', 'd ow n', 'in to', 'the', 'b ou le v ar d', 'p as s ing', 'that', 'si de', 'of', 'the', 'C ri m in al', 'C ou r t s', 'B u i ld ing .', '\" I t \\'s', 'one', 'of', 'th o se', 'ti l ing s', 'that', 'ma ke', 'me', 'th in k', 'm y', 'sa in t ed', 'mo the r', \"was n 't\", 'so', 'w r on g', 'w he n', 's he', 'u s ed', 'to', 't e ll', 'z', 'e l ve s', 'and', 'g no me s', 'and', 'I', 'I', 'c ha un s', 'and', 'f a ir i es', 'and', '--', '#', 'Kirk', 'ma de', 'a', 's ou nd', 'de e p', 'in', 'his', 'th ro at ,', '\" N a i a', 'N or th', 'was', 'a', 'he ll', 'of', 'a', 'l on g', 'w ay', 'f ro m', 'be ing', 'a', 'le p re c ha un .', 'S o me b o d y', 'w ant ed', 'her', 'out', 'of', 'he re', 'for', 'so me', 're as on', '--', 'and', 'the y', 'go t', 'her', 'out .', 'I', 'w ant', 'to', 'k n ow', 'w ho', 'to o k', 'her', 'out ,', 'w h y', 's he', 'was', 't a k en ,', 'and', 'w he re', 's he', 'is', 'n ow .', 'A nd', \"I ' m\", 'go ing', 'to', 'f in d', 'out', 'the', 'an s w er s', 'to', 'all', 'th re e', 'i f', 'I', 'ha ve', 'to', 't ur n', 'th is', 'to w n', 'on', 'it s', 'e ar .\"', '\" G o', 'a he ad , \"', 'T ro y', 'said ,', '\" H o p', 'ri ght', 'to', 'it', 'and', 'I', 'w is h', 'you', 'l u c k .', 'O n ly', 'le a ve', 'me', 'and', 'm y', 'p e o p le', 'out', 'of', 'it .\"', '\" S e e m s', 'to', 'me', \"you ' re\", 'm i ght y', 'd a m n ed', 'an x i ou s', 'to', 'be', 'le f t', 'out .\"', 'A r th ur', 'K a h l er', 'T ro y', 't ur n ed', 'on', 'his', 'he e l', 'and', 'st ro de', 'to w ar d', 'the', 'L ie ut en ant', 'un ti l', 'he', 'was', 'to w er ing', 'o ver', 'hi m .', '\" j u st', 'w hat , \"', 'he', 'said', 'be t we en', 'his', 't e e th ,', '\" do', 'you', 'me an', 'b y', 'that', 'c r ac k ?\"', '\" F i g u re', 'it', 'out', 'for', 'you r se l f , \"', 'Kirk', 's n a p p ed .', '\" A nd', \"I ' m\", 's u re', 'you', 'c an .\"', 'T ro y', 're a re d', 'b ac k', 'as', 'th ou gh', 'the', 'p o li ce', 'of f ic er', 'ha d', 'p u ll ed', 'a', 'g un', 'on', 'hi m .', '\" W h y', '--', 'w h y', 'you', '--', \"I ' ll\", 'ha ve', 'you', 'b u st ed', 'for', 'ma k ing', 'a', 'd ir t y', 'in s in u', '--', '\"', '\" Y ou', \"c ould n 't\", 'b u st', 'a', 'd a is y', 'c ha in', 'at', 'the', 'p o li ce', 'de p ar t m ent , \"', 'Kirk', 'g r ow l ed .', '\" The', 'C o m m is si on er', 'hat es', 'you r', 'g ut s', 'and', 'you', 'k n ow', 'that', 'as', 'we ll', 'as', 'I', 'do .', 'N ow', \"le t 's\", 'c ut', 'out', 'all', 'th is', 'ho ke y - p o ke y', 'and', 'p ic k', 'u p', 'a', 'fe w', 'lo o se', 'en d s .', 'The', 'f ir st', 'th ing :', 'w hat', 'ab out', 'P a u l', 'Cordell ?\"', 'A ll', 'the', 'wi de - e y ed', 'f ur y', 'se e m ed', 'to', 'go', 'out', 'of', \"T ro y 's\", 'f ac e', 'li ke', 'w at er', 'd ow n', 'the', 'b a th t u b', 'd r a in .', 'H e', 't ur n ed', 'a w ay', 'and', 'w al k ed', 's l ow ly', 'b ac k', 'to', 'his', 'de s k', 'c ha ir', 'and', 's at', 'd ow n .', 'H e', 'said ,', '\" W hat', 'ab out', \"Cordell '\", 'in', 'a', 's of t', 'v o ic e .', '\" The', 'm or n ing', 'p a p er , \"', 'Kirk', 'said ,', '\" re p or t s', 'he', 'was', 't a k en', 'u p', 'to', 'H i ll c re st', 'l a st', 'n i ght .', 'The', 'w ar d en', 'out', \"the re 's\", 'p ro b ab ly', 'go t', 'hi m', 'in', 'D e a th', 'R ow', 'al re ad y .\"', '\" U h - h un h .\"', '\" W e ll ,', \"le t 's\", 'g et', 'hi m', 'out', 'of', 'the re .', 'W i th', 'the', 'e v id en ce', \"we ' ve\", 'go t ,', 'p l u s', 'N a i a', \"N or th 's\", 's w or n', 'st at e m ent ,', 'J u d g e', 'R e ed', 'wi ll', 'ha ve', 'to', 'b r ing', 'hi m', 'b ac k', 'd ow n', 'he re', 'and', 're le as e', 'hi m', '--', 'at', 'le a st', 'on', 'b a i l', 'un ti l', 'we', 'c an', 'f in d', 'the', 'g ir l .', 'The', \"man 's\", 'in no c ent ,', 'M r .', 'D .', 'A . ;', 'ha ve', 'you', 'for go t t en ?\"', '\" Y es .\"', '\"', \"' Y es ' ?\", 'Y es ,', 'w hat ?\"', '\" I \\' ve', 'for go t t en', \"he 's ,\", 'in no c ent , \"', 'T ro y', 'said', 'q u i et ly .', '\" M at ter', 'of', 'f ac t ,', \"he 's\", 'g u i l t y', 'as', 'he ll \"', 'T', 'he', 'li e ut en ant', 'ha l f', 'ro se', 'f ro m', 'his', 'c ha ir .', '\" N ow', 'w a it', 'a', 'm in ut e !', 'Y ou', 'he ar d', 'that', \"g ir l 's\", 'st or y', 'and', \"you ' ve\", 'go t', 'the', 'e v id en ce', 'I', 't ur n ed', 'o ver', 'to', 'you', 'ri ght', 'he re', 'in', 'th is', 'of f ic e', 'l a st', 'n i ght .', 'W hat', 'mo re', '--', '\"', '\" I \\' ll', 't e ll', 'you', 'w hat', \"mo re '\", 'T ro y', 's n a p p ed .', '\" T hat', 'g ir l', 'was', 'a', 'f r a u d ,', 'her', 'st or y', 'was', 'a', 'd ow n ri ght', 'li e', 'and', 'that', 'e v id en ce', 'was', 'f a k ed .', 'L et', 'me', 't e ll', 'you', 'so me th ing', 'e l se ,', 'M i st er :', 'wi th in', 'f i ve', 'm in ut es', 'a f ter', 'the', 'g u ar d', 'd ow n st a ir s', 're p or t ed', 'you r', 'g ir l', 'f ri en d', 'm is s ing ,', 'I', 'ha d', 'f i ve', 's q u ad s', 'of', 'm y', 'm en', 'out', 'r un n ing', 'd ow n', 'the', 'p er s on al', 'in for m at i on', 's he', 'g a ve', 'me', 'a', 'fe w', 'h ou r s', 'be f o re .', 'A nd', 'you', 'k n ow', 'w hat', 'the y', 'f ou nd', 'out ? .', 'E ver y', 'b it', 'of', 'w hat', 's he', 'to ld', 'me', 'was', 'f al se !', 'H e ar', 'that ?', 'F al se !', 'I t', 'to o k', 'm y', 'm en', 'ab out', 'one', 'h ou r', 'to', 'p ro ve', 'as', 'm u c h ,', 'for', 'the', 'si m p le', 're as on', 'that', 'no t', 'one', 'le ad', 'A nd', 'you', 'f ro m ,', 'that', 'co at', 'c', 'Kirk', 'ut', 'a', 'st r an th is', 'd a me', 'w ho le', 'th ing', 'be you', 'to', 'sa ve', 'Cor W ho', 'c ould', 'do', 'a', 'be t ter', 'g', 'e v id en ce', 'th an', 'a', 'A', 's', 'mo re ,', 'you', 'ha ve', 'go t t en', 'a w ay', 'wi th', 'it ,', 'to o', '--', 'on ly', 'it', 's u d d en ly', 'd a w n ed', 'on', 'the', 'g ir l', 'that', 's he', 'was', 'g et t ing', 'in', 'to o', 'de e p .', '\" A nd', 'so', 'Kirk', 'c ut', 'in', 'ho t ly ,', '\" s he', 'c al m ly', 'w al k ed', 'th r ou gh', 'f i ve', 'lo c k ed', 'se t s', 'of', 'ir on', 'b ar s', 'and', 'w ent', 'b ac k', 'to', 'M ar s ! \"', 'H e', 's to o d', 'u p', 'and', 'c ro s s ed', 'to', 'the', 'de s k', 'and', 'le an ed', 'd ow n', 'wi th', 'his', 'p al m s', 'in', 'the', 'c ent er', 'of', 'the', 'b r ow n', 'b lo t ter ,', '\" Y ou', \"w on 't\", 'g et', 'a w ay', 'wi th', 'it ,', 'T ro y .', 'Y ou', \"d id n 't\", 'w ant', 'an y', 'p ar t', 'of', 'th is', 'ne w', 'de ve lo p m ent', 'f ro m', 'the', 'm in ut e', 'I', 'c all ed', 'you', 'on', 'the', 'p h one', 'l a st', 'n i ght .', 'Y ou', 'k ne w', 'it', 'c ould', 's h ow', 'you', 'and', 'you r', 'w ho le', 'or g an i z at i on', 'as', 'a', 'b un c h', 'of', 'b un g l er s', 'and', 'in you', 'go t', 'r id', 'of', 'the', 'that', 'wi th out', 'her', 'the', 'of', 'th o se', 'm ur d er s', 'w ould', 'ne ver', 'et', 'out', 'to', 'the', 'v o ter s .', 'it', \"w on 't\", 'w or k .', 'F at so !', 'The', 'u p', 'is', 'st r on g', 'en ou gh', 'c as e', 'wi th out', 'N a i a', 'y', 'a ve', 'to', 'do', 'is', 'p ut', 'that', 'J u d g e', 'R e ed ,', 'U', 'Y ou', 'en ce .', \"I t 's\", 'in', 'o ver', 'to', \"you . '\", 'The', 'D ,', 'A .', 'was', '\" W e', \"d on 't\", 'ar ou nd', 'he re ,', 'm y', 'c as e', 'is', 'c lo s ed ;', 'the', 'a w a it ing', 'e x e c ut i on ,', 'al on g', 'and', 't e ll', 'the', 'J u', 'it .', 'T e ll', 'the', 'ne w s p a p er s ,', 't', 'de l P s', 'de f en se', 'at t or ne y s', 'w or ld', 'for', 'all', 'I', 'c a re .', 'S e e', 't ou c h', 'it', 'wi th out', 'so me th in', 'c on c re t e', 'th an', 'you r', 'hi gh ly', 'i ma', 'n at i ve', 'd ay', 'd re a m s .', 'F or', 'all', 'you', 'c an', 'p ro ve ,', 'the', 'g ir l', 'm i ght', 'ha ve', 'c on f es s ed', 'the', 'w ho le', 'th ing', 'was', 'a', 'ho a x', 'and', 'we', 'to s s ed', 'her', 'out', 'of', 'he re', 'l a st', 'n i ght .', '\" I \\' m', 'a', 'b u s y', 'man ,', 'L ie ut en ant ,', 'G o o d', 'm or n ing', '--', 'go o d', 'l u c k', '--', 'and', 'k in d ly', 'c lo se', 'the', 'do or', 'on', 'you r', 'w ay', 'out \"', 'C ha p ter', 'I V', 'L', 'ie ut en ant', 'the', 'p i le', 'of', 'm i me o g r a p', 'p a g es', 'as i de .', 'T h re e', 'h ou r s', 'th r ou gh', 'the', 'co m p le t e', 's c ri p t', 'of', 'the', 'Corde !', 'ing', 'to', 's h ow', 'for', 'it', 'and', 'an', 'ac h ing', 'he a', 'it', 'u p ,', 'a', 's ma', 'b ac k', 'of', 'his', \"ha v en 't\", 'go t', 'a', 'as', 'g et t ing', 'an y', 'the', 'fe ar', 'of', 'G o', 'do es', 'that', 'p o or', 'de v i l', 'u p', 'in', \"D e a th 's\", 'R ow .', 'H e', 'd r u m m ed', 'his', 'f ing er s', 'o ver', 'and', 'o ver', 'on', 'the', 'ar m', 'of', 'his', 'c ha ir', 'and', 'li st en ed', 'to', 'the', 'e ver y - d ay', 's ou nd s', 'of', 'a', 'n or m al', 'd ay', 'at', 'the', 'H o m ic i de', 'B u re a u .', 'A', 'ne w', 'd ay ,', 'a', 'ne w', 'se t', 'of', 'p ro b le m s ,', 'and', 'w h y', 'k no c k', 'you r se l f', 'out', 'o ver', 'so me', 'ti l ing', 'that', \"do es n 't\", 'c on c er n', 'you ?', 'T h ing', 'to', 'do', 'was', 'go', 'd ow n', 'to', 'the', 'co m er', 't a ver n', 'and', 'ha ve', 'a', 'c ou p le', 'of', 'f a st', 'on es', 'and', 'w at c h', 'an', 'o ld', 'mo v ie', 'on', 't e le v is i on .', 'Y es', 's ir ,', \"that 's\", 'e x ac t ly', 'w hat', \"he ' d\", 'do !', 'H e', 'w ent', 'b ac k', 'to', 'the', 'm i me o g r a p he d', 'p a g es .', 'F or', 'the', 'f ou r th', 'ti me', 'he', 're ad', 'th r ou gh', \"Cordell 's\", 't e st i m on y', 'of', 'w hat', 'ha d', 'ha p p en ed', 'that', 'O c to b er', 'a f ter no on .', 'A nd', 'it', 'was', 'the re', 'that', 'he', 'c a me', 'ac ro s s', 'the', 'f ir st', 'p o s si b le', 'b re a k', 'in', 'the', 'st one', 'w all .', 'O n ce', 'mo re', 'M ar t in', 'Kirk', 'w ent', 'o ver', 'the', 'fe w', 'l in es ,', 'al th ou gh', 'b y', 'th is', 'ti me', 'he', 'c ould', 'ha ve', 'co me', 'c lo se', 'to', 're c it ing', 'the m', 'f ro m', 'me m or y .', 'I t', 'was', 'an', 'e x c er p t', 'f ro m', 'A r th ur', 'K a h l er', \"T ro y 's\", 'c ro s s - e x a m in at i on', 'of', 'the', 'de f en d ant', 'a f ter', \"Cordell 's\", 'c ou n se l ,', 'in', 'a', 'l a st', 'de s p er at e', 'e f for t', 'to', 's w ing', 'the', 'ti de', 'of', 'a', 'lo s ing', 'b at t le ,', 'ha d', 'p l ac ed', 'hi m', 'on', 'the', 'st and .', 'Q :', '( b y', 'T ro y )', ':', 'N ow ,', 'M r .', 'Cordell ,', 'I', 'd i re c t', 'you r', 'at t ent i on', 'to', 'the', 'p o in t', 'in', 'you r', 't e st i m on y', 'at', 'w h ic h', 'f ir st', 'ent e re d', 'P r of es s or', \"G i l mo re 's\", 'out er', 'of f ic e .', 'A t', 'w hat', 'ti me', 'was', 'th is ?', 'A :', 'A t', 'ab out', '# : #', 'p . m .', 'Q :', 'W ho', 'was', 'in', 'the', 'of f ic e', 'at', 'that', 'ti me ?', 'A :', 'A l ma', 'D a k in ,', 'the', \"P r of es s or 's\", 'se c re t ar y .', 'A nd', 'a', 'c ou p le', 'of', 'st u d ent s', '--', 'al th ou gh', ',', 'the y', 'we re', 'at', 'the', 'o the r', 'en d', 'of', 'the', 'ro o m', 'and', 'I', \"d id n 't\", 'p ay', 'm u c h', 'at t ent i on', 'to', 'the m', '.', 'Q :', 'B ut', 'you', 'd id', 'p ay', 'at t ent i on ,', 'as', 'you', 'c all', 'it ,', 'to', 'M is s', 'D a k in ?', 'A :', 'W e ll ,', 'I', 's p o ke', 'to', 'her ,', 'i f', \"that 's\", 'w hat', 'you', 'me an .', 'Q :', \"T hat 's\", 'e x ac t ly', 'w hat', 'I', 'me an ,', 'M r .', 'Cordell .', 'A nd', 'w hat', 'was', 'it', 'you', 'said', 'to', 'her ?', 'A :', 'S o me th ing', 'ab out', 'it', 'was', 'to o', 'l at e', 'in', 'the', 'd ay', 'to', 'be', 'w or k ing', 'so', 'h ar d .', 'Q :', 'T hat', 'was', 'all ?', 'A :', 'Y es ,', 's ir .', 'Q :', 'R e me m b er ,', 'M r .', 'Cordell ,', \"you ' re\", 'un d er', 'o a th .', 'N ow', 'I', 'as k', 'you', 'a g a in', ':', 'W as', 'that', 'all', 'you', 'said', 'to', 'her', 'at', 'that', 'ti me ?', 'A :', 'Y es ,', 's ir .', 'Q :', 'I t', \"is n 't\", 'p o s si b le', \"you ' ve\", 'for go t t en', 'so me', 'ad d it i on al', 're m ar k ?', 'T h in k', 'c a re f u ll y ,', 'p le as e .', 'A :', 'N o ,', 's ir .', \"T hat 's\", 'all', 'I', 'said .', 'I', 's we ar', 'it .', 'Q :', 'V er y', 'we ll .', 'N ow', 'h ow', 'we ll', 'do', 'you', 'k n ow', 'M is s', 'D a k in ?', 'A :', 'J u st', 'to', 's p e a k', 'to ,', 'Q :', 'H a ve', 'you', 'e ver', 'se en', 'her', 'out si de', 'P r of es s or', \"G i l mo re 's\", 'of f ic e ?', 'A :', 'N o ,', 's ir .', 'Q :', 'E ver', 'as k', 'her', 'for', 'a', 'd at e ?', 'A :', \"' N o ,\", 's ir .', 'Q :', 'D id', 'you', 'e ver', 'ha ve', 'an', 'ar g u m ent', 'wi th', 'her ?', 'A', 'd is c u s si on', 'of', 'an y', 'k in d', 'that', 'm ay', 'ha ve', 'be co me', 'a', 'b']\n"
          ]
        }
      ]
    },
    {
      "cell_type": "markdown",
      "source": [
        "## **1.2 Part of the speech tagging (POS)**\n",
        "\n",
        "POS is a method in Natural Language Processing which is also called grammer tagging that involves labelling or tagging different words in a sentence into categories like (Noun, Adjective, Adverb, Verb) etc. It is one of the crucial step in NLP which is used for determining the meaning of the sentence and at which context the different words are present.\n",
        "\n"
      ],
      "metadata": {
        "id": "o0JUkLoUpwtm"
      }
    },
    {
      "cell_type": "code",
      "source": [
        "# POS tagging\n",
        "\n",
        "pos_tags = pos_tag(words)\n",
        "\n",
        "def get_wordnet_pos(tag):\n",
        "    if tag.startswith('J'):\n",
        "        return wn.ADJ\n",
        "    elif tag.startswith('V'):\n",
        "        return wn.VERB\n",
        "    elif tag.startswith('N'):\n",
        "        return wn.NOUN\n",
        "    elif tag.startswith('R'):\n",
        "        return wn.ADV\n",
        "    else:\n",
        "        return None\n"
      ],
      "metadata": {
        "id": "LioAzkTNmDJU"
      },
      "execution_count": null,
      "outputs": []
    },
    {
      "cell_type": "markdown",
      "source": [
        "## **1.3 Lemmatization**\n",
        "\n",
        "Lemmatization is another step in NLP where we convert words into its base or root meaning called a **Lemma**. This is often used to simplyfy complex phrases and words which might became hard for NLP models to perform. It is one of the essential step to reduce the complexity of langugae which involves several tenses and meanings.\n",
        "\n",
        "For lemmatization to work, we need to provide part of the speech tagging for the lemmatizer to understand different tags of words."
      ],
      "metadata": {
        "id": "yAS5rztrmIAw"
      }
    },
    {
      "cell_type": "code",
      "source": [
        "lemmatizer = WordNetLemmatizer()\n",
        "lemmatized_words = []\n",
        "\n",
        "for word, tag in pos_tags:\n",
        "    wordnet_pos = get_wordnet_pos(tag)\n",
        "    if wordnet_pos:\n",
        "        lemma = lemmatizer.lemmatize(word, wordnet_pos)\n",
        "    else:\n",
        "        lemma = lemmatizer.lemmatize(word)\n",
        "    lemmatized_words.append(lemma)\n",
        "\n",
        "print(lemmatized_words)"
      ],
      "metadata": {
        "colab": {
          "base_uri": "https://localhost:8080/"
        },
        "id": "8FXjodPSnNQY",
        "outputId": "170cba2e-18db-4539-d15a-238f79d314f2"
      },
      "execution_count": null,
      "outputs": [
        {
          "output_type": "stream",
          "name": "stdout",
          "text": [
            "['She', 'be', 'run', 'quickly', 'in', 'the', 'Jurassic', 'park', '.', 'Suddenly', 'she', 'hear', 'a', 'T-rex', 'roar', '.']\n"
          ]
        }
      ]
    },
    {
      "cell_type": "markdown",
      "source": [
        "## **1.4 Stemming**\n",
        "\n",
        "Stemming is similar to Lemmatization but it is a bit more simpler, Steming invoves segmenting a word into its stem by truncating or removing the affixes (additional meaning adding words). Stemming is relatively simpler to implement than lemmatization since it requires truncation algorithamically rather than just definining a set of rules to normalize text like lemmatization.\n",
        "\n",
        "Types of Stemming:\n",
        "\n",
        "**PorterStemmer**: PorterStemmer stems words more freely and less aggresively in which some affixes are conserved for indicating the meaning of a word.\n",
        "\n",
        "**LancasterStemmer**: LancasterStemmer is more aggressive in terms of segmenting the word into their stem, it often removes affixes which sometimes lead to removal of important meaning of words, for example, if lancaster stemmer has a rule to remove 'ing' from words, if may remove 'ing' from sing left with s."
      ],
      "metadata": {
        "id": "NTy_W7qK6TG0"
      }
    },
    {
      "cell_type": "code",
      "source": [
        "from nltk.stem import PorterStemmer, LancasterStemmer\n",
        "\n",
        "porter_stemmer = PorterStemmer()\n",
        "lancaster_stemmer = LancasterStemmer()\n",
        "\n",
        "text = \"She is running quickly and she heard a T-rex roar. She got frightned and called her boyfriend\"\n",
        "\n",
        "words = word_tokenize(text)\n",
        "\n",
        "porter_stems = [porter_stemmer.stem(word) for word in words]\n",
        "lancaster_stems = [lancaster_stemmer.stem(word) for word in words]\n",
        "\n",
        "print(porter_stems)\n",
        "print(lancaster_stems)"
      ],
      "metadata": {
        "id": "SPqRbQ8mHXb-",
        "colab": {
          "base_uri": "https://localhost:8080/"
        },
        "outputId": "57af1a68-b20d-4fbe-bf9b-a8802c63d4a3"
      },
      "execution_count": null,
      "outputs": [
        {
          "output_type": "stream",
          "name": "stdout",
          "text": [
            "['she', 'is', 'run', 'quickli', 'and', 'she', 'heard', 'a', 't-rex', 'roar', '.', 'she', 'got', 'frightn', 'and', 'call', 'her', 'boyfriend']\n",
            "['she', 'is', 'run', 'quick', 'and', 'she', 'heard', 'a', 't-rex', 'roar', '.', 'she', 'got', 'frightn', 'and', 'cal', 'her', 'boyfriend']\n"
          ]
        }
      ]
    },
    {
      "cell_type": "markdown",
      "source": [
        "## **2 Minimum Edit Distance (MED)**\n",
        "\n",
        "Minimum Edit Distance is used for finding how similar two words or two sentence strings are. It finds this by analyzing the two strings and how many edit is needed for one string to become another, if there are less number of edit including insertion, deletion, substitution, etc, then the two words or sentences said to be more similar."
      ],
      "metadata": {
        "id": "29CP01LdllhE"
      }
    },
    {
      "cell_type": "code",
      "source": [
        "!pip install python-Levenshtein"
      ],
      "metadata": {
        "colab": {
          "base_uri": "https://localhost:8080/"
        },
        "id": "mtNz-1_hD6R2",
        "outputId": "95899f86-aab9-40ff-d0a7-94644ea0d0d8"
      },
      "execution_count": null,
      "outputs": [
        {
          "output_type": "stream",
          "name": "stdout",
          "text": [
            "Collecting python-Levenshtein\n",
            "  Downloading python_Levenshtein-0.25.1-py3-none-any.whl (9.4 kB)\n",
            "Collecting Levenshtein==0.25.1 (from python-Levenshtein)\n",
            "  Downloading Levenshtein-0.25.1-cp310-cp310-manylinux_2_17_x86_64.manylinux2014_x86_64.whl (177 kB)\n",
            "\u001b[2K     \u001b[90m━━━━━━━━━━━━━━━━━━━━━━━━━━━━━━━━━━━━━━━━\u001b[0m \u001b[32m177.4/177.4 kB\u001b[0m \u001b[31m3.6 MB/s\u001b[0m eta \u001b[36m0:00:00\u001b[0m\n",
            "\u001b[?25hCollecting rapidfuzz<4.0.0,>=3.8.0 (from Levenshtein==0.25.1->python-Levenshtein)\n",
            "  Downloading rapidfuzz-3.8.1-cp310-cp310-manylinux_2_17_x86_64.manylinux2014_x86_64.whl (3.4 MB)\n",
            "\u001b[2K     \u001b[90m━━━━━━━━━━━━━━━━━━━━━━━━━━━━━━━━━━━━━━━━\u001b[0m \u001b[32m3.4/3.4 MB\u001b[0m \u001b[31m11.2 MB/s\u001b[0m eta \u001b[36m0:00:00\u001b[0m\n",
            "\u001b[?25hInstalling collected packages: rapidfuzz, Levenshtein, python-Levenshtein\n",
            "Successfully installed Levenshtein-0.25.1 python-Levenshtein-0.25.1 rapidfuzz-3.8.1\n"
          ]
        }
      ]
    },
    {
      "cell_type": "code",
      "source": [
        "import Levenshtein\n",
        "\n",
        "s1 = \"Sunday\"\n",
        "s2 = \"Saturday\"\n",
        "\n",
        "edit_distance = Levenshtein.distance(s1, s2)\n",
        "print(edit_distance)"
      ],
      "metadata": {
        "colab": {
          "base_uri": "https://localhost:8080/"
        },
        "id": "MDEAD9qrw9hA",
        "outputId": "8e0c3ccf-1b1b-430f-e9ed-c0842a4de279"
      },
      "execution_count": null,
      "outputs": [
        {
          "output_type": "stream",
          "name": "stdout",
          "text": [
            "3\n"
          ]
        }
      ]
    },
    {
      "cell_type": "markdown",
      "source": [
        "### **2.2 Scratch Implementation of MED**"
      ],
      "metadata": {
        "id": "ROsecqDce9YY"
      }
    },
    {
      "cell_type": "code",
      "source": [
        "def minimum_edit_distance(str1, str2):\n",
        "    # Initialize the matrix\n",
        "    len1 = len(str1)\n",
        "    len2 = len(str2)\n",
        "    matrix = [[0] * (len2 + 1) for _ in range(len1 + 1)]\n",
        "\n",
        "    # Initialize the first row and column\n",
        "    for i in range(len1 + 1):\n",
        "        matrix[i][0] = i\n",
        "    for j in range(len2 + 1):\n",
        "        matrix[0][j] = j\n",
        "\n",
        "    # Calculate the minimum edit distance\n",
        "    for i in range(1, len1 + 1):\n",
        "        for j in range(1, len2 + 1):\n",
        "            if str1[i - 1] == str2[j - 1]:\n",
        "                cost = 0\n",
        "            else:\n",
        "                cost = 1\n",
        "\n",
        "            matrix[i][j] = min(\n",
        "\n",
        "\n",
        "                matrix[i - 1][j] + 1,  # Deletion\n",
        "                matrix[i][j - 1] + 1,  # Insertion\n",
        "                matrix[i - 1][j - 1] + cost  # Substitution\n",
        "            )\n",
        "\n",
        "\n",
        "    # Return the minimum edit distance\n",
        "\n",
        "    return matrix[len1][len2]\n",
        "\n",
        "# Example usage\n",
        "str1 = \"Benny\"\n",
        "str2 = \"Dennis\"\n",
        "\n",
        "# Calculate the minimum edit distance between the two strings\n",
        "edit_distance = minimum_edit_distance(str1, str2)\n",
        "\n",
        "# Print the minimum edit distance\n",
        "print(f\"Minimum edit distance between '{str1}' and '{str2}' is: {edit_distance}\")\n"
      ],
      "metadata": {
        "id": "vMpTZDRJxO2K",
        "colab": {
          "base_uri": "https://localhost:8080/"
        },
        "outputId": "65011967-d2eb-474b-eb69-c8d137c17768"
      },
      "execution_count": null,
      "outputs": [
        {
          "output_type": "stream",
          "name": "stdout",
          "text": [
            "Minimum edit distance between 'Benny' and 'Dennis' is: 3\n"
          ]
        }
      ]
    },
    {
      "cell_type": "code",
      "source": [],
      "metadata": {
        "id": "L3rClJL0LEeA"
      },
      "execution_count": null,
      "outputs": []
    }
  ]
}